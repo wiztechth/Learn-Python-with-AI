{
 "cells": [
  {
   "cell_type": "markdown",
   "metadata": {},
   "source": [
    "**บทที่ 1: การเริ่มต้นใช้งาน Python ด้วย VSCode และ GitHub Copilot**\n",
    "\n",
    "หัวข้อย่อย:\n",
    "\n",
    "### 1. Python คืออะไรและการประยุกต์ใช้งาน (What is Python and its Applications):\n",
    "\n",
    "  - Python เป็นภาษาโปรแกรมระดับสูงที่ใช้งานง่ายและมีความยืดหยุ่นสูง เหมาะสำหรับการพัฒนาแอปพลิเคชันหลากหลายประเภท รวมถึงการจัดการข้อมูลในธุรกิจร้านอาหาร\n",
    "  - ในบริบทของร้านอาหาร, Python สามารถนำไปใช้ในการ:\n",
    "    - จัดการข้อมูลลูกค้า (Customer data management)\n",
    "    - วิเคราะห์ยอดขาย (Sales analysis)\n",
    "    - จัดการสต็อกวัตถุดิบ (Inventory management)\n",
    "    - สร้างระบบสั่งอาหารออนไลน์ (Online ordering systems)\n",
    "    - การพัฒนาระบบการชำระเงิน (Payment processing systems)\n",
    "    - การสร้างระบบวิเคราะห์ข้อมูลยอดขายเพื่อดูเมนูที่ขายดีที่สุด\n",
    "\n",
    "### 2. การติดตั้งสภาพแวดล้อมการพัฒนา (Setting up the Development Environment):\n",
    "  - แนะนำการติดตั้ง Python และ VSCode (Visual Studio Code)\n",
    "  - ดาวน์โหลด Python จากเว็บไซต์ทางการ (https://python.org/downloads)\n",
    "  - ดาวน์โหลด VSCode จากเว็บไซต์ทางการ (https://code.visualstudio.com)\n",
    "  - การใช้งานเบื้องต้น: https://code.visualstudio.com/docs/getstarted/getting-started\n",
    "  - การติดตั้ง Python extensions ใน VSCode เพื่อเพิ่มประสิทธิภาพการเขียนโค้ด\n",
    "\n",
    "### 3. การใช้ GitHub Copilot ในการช่วยเขึยนโค้ด:\n",
    "  - อธิบายว่า GitHub Copilot คืออะไรและทำงานอย่างไร\n",
    "  - การเปิดใช้ Free GitHub Copilot - https://code.visualstudio.com/docs/copilot/setup-simplified\n",
    "  - แสดงคุณสมบัติหลักของ GitHub Copilot เช่น การแนะนำโค้ดอัตโนมัติ (code completion), การสร้างโค้ดจากคำอธิบาย (code generation), และการแนะนำเอกสาร (documentation suggestions)\n",
    "  - อธิบายการใช้งาน GitHub Copilot ในการช่วยพัฒนาโค้ดที่เกี่ยวข้องกับร้านอาหาร\n",
    "\n",
    "### 4. การเขียนโปรแกรม Python แรกใน VSCode (Writing your First Python Program in VSCode):\n",
    "  - สร้างไฟล์ Python ใหม่ (.py) ใน VSCode\n",
    "  - เขียนโปรแกรม Python ง่ายๆ เช่น การแสดงข้อความ \"Hello, World!\"\n",
    "  - อธิบายการใช้ print() function."
   ]
  },
  {
   "cell_type": "code",
   "execution_count": null,
   "metadata": {},
   "outputs": [],
   "source": [
    "message = \"Hello, World!\"\n",
    "print(message)  # Prints \"Hello, world!\"\n"
   ]
  },
  {
   "cell_type": "code",
   "execution_count": null,
   "metadata": {},
   "outputs": [],
   "source": [
    "item1 = \"Burger\"\n",
    "price1 = 10.99\n",
    "\n",
    "item2 = \"Fries\"\n",
    "price2 = 4.50\n",
    "\n",
    "total_price = price1 + price2\n",
    "\n",
    "print(f\"Total price for {item1} and {item2}: ${total_price:.2f}\")"
   ]
  },
  {
   "cell_type": "markdown",
   "metadata": {},
   "source": [
    "### 5. การใช้ GitHub Copilot สำหรับการแนะนำโค้ด (Using GitHub Copilot for Code Suggestions):\n",
    "  - แสดงตัวอย่างการใช้ GitHub Copilot ในการเขียนโค้ดที่เกี่ยวข้องกับร้านอาหาร เช่น โปรแกรมคำนวณราคารวมของอาหาร\n",
    "  - ตัวอย่างการใช้ Copilot ช่วยสร้าง function เพื่อคำนวณราคารวมของ Order"
   ]
  },
  {
   "cell_type": "code",
   "execution_count": null,
   "metadata": {},
   "outputs": [],
   "source": [
    "# Example of using input and output to interact with restaurant customers\n",
    "print(\"Welcome to our restaurant!\")\n",
    "customer_name = input(\"What is your name? \")\n",
    "print(f\"Hello, {customer_name}! What can we serve you today?\")"
   ]
  },
  {
   "cell_type": "code",
   "execution_count": null,
   "metadata": {},
   "outputs": [],
   "source": [
    "# โปรแกรมคำนวณค่าอาหาร\n",
    "total = 0\n",
    "items = [\"ข้าวผัด\", \"ต้มยำกุ้ง\", \"ส้มตำ\"]\n",
    "\n",
    "for item in items:\n",
    "    price = int(input(f\"ราคาของ {item} คือ: \"))\n",
    "    total += price\n",
    "\n",
    "print(f\"รวมเป็นเงิน: {total}\")"
   ]
  },
  {
   "cell_type": "markdown",
   "metadata": {},
   "source": [
    "### Sample Code"
   ]
  },
  {
   "cell_type": "code",
   "execution_count": null,
   "metadata": {},
   "outputs": [],
   "source": [
    "def say_hello(name):\n",
    "    print(\"Hello, \" + name)\n",
    "\n",
    "say_hello(\"VScode\")"
   ]
  },
  {
   "cell_type": "markdown",
   "metadata": {},
   "source": [
    "#### แบบฝึกหัด (Exercises):\n",
    "\n",
    "    1. สร้างโปรแกรม Python ที่แสดงเมนูอาหารของร้านอาหาร (Create a Python program to display a restaurant menu).\n",
    "    2. เพิ่มฟังก์ชันในการรับรายการสั่งซื้อจากลูกค้า (Add a function to take customer orders).\n",
    "    3. สร้างฟังก์ชันเพื่อคำนวณราคารวมของการสั่งซื้อ (Create a function to calculate the total order price).\n",
    "    4. ใช้ GitHub Copilot เพื่อช่วยในการเขียนโค้ด (Use GitHub Copilot to assist in writing code)."
   ]
  }
 ],
 "metadata": {
  "kernelspec": {
   "display_name": "Python 3",
   "language": "python",
   "name": "python3"
  },
  "language_info": {
   "codemirror_mode": {
    "name": "ipython",
    "version": 3
   },
   "file_extension": ".py",
   "mimetype": "text/x-python",
   "name": "python",
   "nbconvert_exporter": "python",
   "pygments_lexer": "ipython3",
   "version": "3.9.13"
  }
 },
 "nbformat": 4,
 "nbformat_minor": 2
}
