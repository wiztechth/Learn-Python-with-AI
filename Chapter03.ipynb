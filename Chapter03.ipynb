{
 "cells": [
  {
   "cell_type": "markdown",
   "id": "e80d2566",
   "metadata": {},
   "source": [
    "**บทที่ 3: การดำเนินการและรูปแบบข้อความ** (String Operations and Formatting)  \n",
    "\n",
    "---\n",
    "\n",
    "## หัวข้อย่อยและเนื้อหา  \n",
    "\n",
    "### 1. ข้อมูลพื้นฐานของข้อความ (String Basics)  \n",
    "- **สตริง (String)**: หมายถึงข้อความหรือตัวอักษรที่สามารถจัดเก็บและประมวลผลในโปรแกรมภาษาไพทอน สตริงสามารถอยู่ในเครื่องหมายคำพูด (\"\") หรือเครื่องหมายวงเล็บ ('') ได้ ตัวอย่างเช่น:  \n",
    "- **ตัวอย่างในร้านอาหาร**:  \n",
    "  ```python  \n",
    "  restaurant_name = \"The Spice Kitchen\"  \n",
    "  menu_item = \"Pad Thai with Shrimp\"  \n",
    "  address = \"1234 Food Street, Bangkok\"  \n",
    "  ```  "
   ]
  },
  {
   "cell_type": "markdown",
   "id": "ed847381",
   "metadata": {},
   "source": [
    "### 2. การใช้ดัชนีและตัดข้อความ (String Indexing and Slicing)  \n",
    "- **การเข้าดัชนี**: ดึงตัวอักษรโดยตำแหน่ง  \n",
    "  ```python  \n",
    "  dish = \"Tom Yum Soup\"  \n",
    "  first_char = dish[0]    # Output: \"T\"  \n",
    "  last_char = dish[-1]    # Output: \"p\"  \n",
    "  ```  \n",
    "- **การตัด (Slicing)**: ดึงส่วนหนึ่งของข้อความ  \n",
    "  ```python  \n",
    "  price = \"250THB\"  \n",
    "  amount = price[:3]      # Output: \"250\"  \n",
    "  currency = price[3:]    # Output: \"THB\"  \n",
    "  ``` "
   ]
  },
  {
   "cell_type": "markdown",
   "id": "7b2bf9c8",
   "metadata": {},
   "source": [
    "### 3. การรูปแบบข้อความ (String Formatting)  \n",
    "#### `%`, `str.format()`, และ `f-strings`  \n",
    "- **`%`**: รูปแบบข้อความแบบคลาสสิก  \n",
    "  ```python  \n",
    "  order = \"Customer ordered %s for %d THB.\" % (\"Pad Thai\", 200)  \n",
    "  ```  \n",
    "- **`str.format()`**: ใช้ `{}` และ `.format()`  \n",
    "  ```python  \n",
    "  receipt = \"{}'s order: {} THB\".format(\"John\", 350)  \n",
    "  ```  \n",
    "- **`f-strings`**: รูปแบบที่สะดวก (Python 3.6+)  \n",
    "  ```python  \n",
    "  customer = \"Sarah\"  \n",
    "  total = 400  \n",
    "  message = f\"Thank you, {customer}! Your total is {total} THB.\"  \n",
    "  ``` "
   ]
  },
  {
   "cell_type": "markdown",
   "id": "b94eb15c",
   "metadata": {},
   "source": [
    "### 4. วิธีการของข้อความ (String Methods)  \n",
    "#### `split()`, `join()`, `replace()`  \n",
    "- **`split()`**: แบ่งข้อความเป็นรายการ (list) ตามตัวแบ่ง  \n",
    "  ```python  \n",
    "  ingredients = \"rice, chicken, soy sauce\".split(\", \")  # Output: [\"rice\", \"chicken\", \"soy sauce\"]  \n",
    "  ```  \n",
    "- **`join()`**: รวมรายการเป็นข้อความด้วยตัวเชื่อม  \n",
    "  ```python  \n",
    "  joined_ingredients = \", \".join(ingredients)  # Output: \"rice, chicken, soy sauce\"  \n",
    "  ```  \n",
    "- **`replace()`**: แทนที่ส่วนหนึ่งของข้อความ  \n",
    "  ```python  \n",
    "  old_menu = \"Fish & Chips\"  \n",
    "  new_menu = old_menu.replace(\"Fish\", \"Salmon\")  # Output: \"Salmon & Chips\"  \n",
    "  ```"
   ]
  },
  {
   "cell_type": "markdown",
   "id": "fa923a5f",
   "metadata": {},
   "source": [
    "### 5. ตัวยกเลิกความหมายพิเศษและข้อความ Raw (Escape Characters and Raw Strings)  \n",
    "- **ตัวยกเลิกความหมายพิเศษ**: เช่น `\\n` สำหรับบรรทัดใหม่, `\\\"` สำหรับคำพูด  \n",
    "  ```python  \n",
    "  menu_description = \"The 'Spicy Noodle' is very hot!\\nAvoid if sensitive.\"  \n",
    "  ```  \n",
    "- **ข้อความ (Raw Strings)**: เพื่อป้องกันการตีความ `\\`  \n",
    "  ```python  \n",
    "  file_path = r\"C:\\Restaurant\\Menu\\2023\\Pad_Thai.jpg\"  # ไม่ต้องเขียน \\\\  \n",
    "  ``` "
   ]
  },
  {
   "cell_type": "markdown",
   "id": "4e4c4032",
   "metadata": {},
   "source": [
    "### 6. การทำงานกับข้อความหลายบรรทัด (Multi-line Strings)  \n",
    "- **ใช้ `\"\"\"` หรือ `'''`**:  \n",
    "  ```python  \n",
    "  welcome_message = \"\"\"  \n",
    "  Welcome to The Spice Kitchen!  \n",
    "  Our special today:  \n",
    "  - Pad Thai (200 THB)  \n",
    "  - Tom Yum (150 THB)  \n",
    "  \"\"\"  \n",
    "  ``` "
   ]
  },
  {
   "cell_type": "markdown",
   "id": "d6bbb863",
   "metadata": {},
   "source": [
    "## แบบฝึกหัด (Exercises)  \n",
    "\n",
    "### แบบฝึกหัดที่ 1: การแบ่งและรวมส่วนประกอบ (Split & Join)  \n",
    "- **โจทย์**: ให้ข้อความ `ingredients = \"salt, pepper, chili, lime\"`  \n",
    "  - ใช้ `split()` เพื่อแปลงเป็นรายการ  \n",
    "  - ใช้ `join()` เพื่อรวมเป็นข้อความใหม่ด้วย `-` เป็นตัวแบ่ง  \n",
    "\n",
    "### แบบฝึกหัดที่ 2: การแทนที่เมนู (Replace Menu Name)  \n",
    "- **โจทย์**: ให้ `old_menu = \"Fish Curry\"` แทนคำว่า \"Fish\" เป็น \"Coconut\" ให้ได้ \"Coconut Curry\"  \n",
    "\n",
    "### แบบฝึกหัดที่ 3: การรูปแบบใบเสร็จ (Receipt Formatting)  \n",
    "- **โจทย์**: สร้างข้อความใบเสร็จด้วย `f-string`  \n",
    "  - ชื่อลูกค้า: `customer_name`  \n",
    "  - ยอดรวม: `total`  \n",
    "  - Output:  \n",
    "    ```  \n",
    "    Receipt:  \n",
    "    Customer: {customer_name}  \n",
    "    Total: {total} THB  \n",
    "    Thank you!  \n",
    "    ```  \n",
    "\n",
    "### แบบฝึกหัดที่ 4: การจัดการข้อความหลายบรรทัด (Multi-line Handling)  \n",
    "- **โจทย์**: สร้างข้อความ \"รายการอาหารพิเศษ\" ด้วย `'''`  \n",
    "  ```  \n",
    "  Special Menu:  \n",
    "  1. Thai Green Curry (Vegan)  \n",
    "  2. Pineapple Fried Rice  \n",
    "  Price: 150-300 THB  \n",
    "  ```  \n",
    "\n",
    "---\n",
    "\n",
    "## หมายเหตุ  \n",
    "- ใช้ข้อมูลโครงสร้างข้อความเพื่อจัดการเมนู, ใบเสร็จ, และข้อความสื่อสารลูกค้า  \n",
    "- ฝึกใช้ `split()` กับ `join()` เพื่อจัดการรายการส่วนประกอบอาหาร  \n",
    "- ฝึกใช้ `f-string` สำหรับการรูปแบบข้อความที่อ่านง่ายและปรับปรุงได้ง่าย"
   ]
  }
 ],
 "metadata": {
  "kernelspec": {
   "display_name": "Python 3",
   "language": "python",
   "name": "python3"
  },
  "language_info": {
   "codemirror_mode": {
    "name": "ipython",
    "version": 3
   },
   "file_extension": ".py",
   "mimetype": "text/x-python",
   "name": "python",
   "nbconvert_exporter": "python",
   "pygments_lexer": "ipython3",
   "version": "3.9.13"
  }
 },
 "nbformat": 4,
 "nbformat_minor": 5
}
