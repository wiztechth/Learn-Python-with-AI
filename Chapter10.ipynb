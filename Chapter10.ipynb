{
 "cells": [
  {
   "cell_type": "markdown",
   "id": "885155d9",
   "metadata": {},
   "source": [
    "### บทที่ 10: Tuples \n",
    "โดยปรับให้เข้ากับบริบทของธุรกิจ E-commerce พร้อมคำอธิบายภาษาไทยและโค้ดภาษาอังกฤษครับ\n",
    "\n",
    "### 1. บทนำเกี่ยวกับ Tuples (Introduction to Tuples)\n",
    "```python\n",
    "'''Title: บทที่ 10: Tuples\n",
    "    Sub-Topics: Introduction to Tuples, Tuple Indexing and Slicing, Tuple Methods: count(), index(), Immutability of Tuples, Unpacking Tuples, Use Cases for Tuples\n",
    "'''\n",
    "\n",
    "'''เนื้อหา (Content):'''\n",
    "\n",
    "# ในโลก E-commerce เรามักจะเจอข้อมูลที่ควรมีลำดับและไม่ควรเปลี่ยนแปลงหลังจากสร้างขึ้นแล้ว\n",
    "# ตัวอย่างเช่น ข้อมูลสินค้าบางอย่างที่ไม่ควรเปลี่ยน เช่น SKU, ราคาตั้งต้น หรือชุดข้อมูลการตั้งค่าระบบ\n",
    "# Tuple เป็นโครงสร้างข้อมูลใน Python ที่เหมาะสำหรับเก็บข้อมูลลักษณะนี้\n",
    "# - Tuple คือ Collection ของข้อมูลที่มีลำดับ (ordered)\n",
    "# - Tuple ไม่สามารถเปลี่ยนแปลงได้ (immutable) หมายความว่า เมื่อสร้าง Tuple แล้ว เราไม่สามารถเพิ่ม ลบ หรือแก้ไขสมาชิกภายใน Tuple นั้นได้\n",
    "# - Tuple กำหนดขึ้นโดยใช้วงเล็บปีกกา () และคั่นสมาชิกด้วยเครื่องหมายคอมมา\n",
    "\n",
    "# ลองสร้าง Tuple สำหรับเก็บข้อมูลสินค้าพื้นฐานที่ไม่ควรเปลี่ยนบ่อยๆ\n",
    "```\n",
    "\n"
   ]
  },
  {
   "cell_type": "code",
   "execution_count": null,
   "id": "6baf9067",
   "metadata": {},
   "outputs": [],
   "source": [
    "product_base_info = (\"SKU-12345\", \"Laptop Model X\", 1200.00, True) # (SKU, ชื่อสินค้า, ราคาตั้งต้น, สถานะมีในร้านหรือไม่)\n",
    "print(f\"ข้อมูล Tuple สินค้า: {product_base_info}\")\n",
    "print(f\"ชนิดของตัวแปร product_base_info: {type(product_base_info)}\")\n",
    "\n",
    "# ลองสร้าง Tuple สำหรับเก็บชุดรหัสสถานะการสั่งซื้อที่กำหนดไว้ตายตัว\n",
    "order_status_codes = (100, 200, 300, 400, 500) # (Pending, Processing, Shipped, Delivered, Cancelled)\n",
    "print(f\"รหัสสถานะการสั่งซื้อ: {order_status_codes}\")"
   ]
  },
  {
   "cell_type": "markdown",
   "id": "e7111631",
   "metadata": {},
   "source": [
    "### 2. การเข้าถึงข้อมูลด้วย Index และ Slicing (Tuple Indexing and Slicing)\n",
    "```Python\n",
    "# การเข้าถึงสมาชิกใน Tuple ทำได้เหมือน List คือใช้ Index (ตำแหน่ง) โดยเริ่มจาก 0 สำหรับสมาชิกตัวแรก\n",
    "# และสามารถใช้ Index ติดลบเพื่อเข้าถึงจากท้าย Tuple ได้ (-1 คือตัวสุดท้าย)\n",
    "# การ Slicing ก็ทำได้เช่นกัน เพื่อดึงสมาชิกมาเป็นช่วง โดยจะได้ Tuple ใหม่กลับมา\n",
    "```"
   ]
  },
  {
   "cell_type": "code",
   "execution_count": null,
   "id": "e87d1ec5",
   "metadata": {},
   "outputs": [],
   "source": [
    "print(\"\\n--- การเข้าถึงข้อมูลด้วย Index และ Slicing ---\")\n",
    "# เข้าถึงชื่อสินค้า\n",
    "print(f\"ชื่อสินค้า (Index 1): {product_base_info[1]}\")\n",
    "\n",
    "# เข้าถึงราคาตั้งต้น\n",
    "print(f\"ราคาตั้งต้น (Index 2): {product_base_info[2]}\")\n",
    "\n",
    "# เข้าถึงสถานะจากท้ายสุด\n",
    "print(f\"สถานะมีในร้านหรือไม่ (Index -1): {product_base_info[-1]}\")\n",
    "\n",
    "# Slicing: ดึงข้อมูลตั้งแต่ชื่อสินค้าไปจนถึงตัวสุดท้าย\n",
    "product_details_slice = product_base_info[1:]\n",
    "print(f\"รายละเอียดสินค้า (Slice จาก Index 1): {product_details_slice}\")\n",
    "\n",
    "# Slicing: ดึงรหัสสถานะ 200 และ 300\n",
    "processing_shipped_codes = order_status_codes[1:3]\n",
    "print(f\"รหัสสถานะ Processing และ Shipped (Slice จาก Index 1 ถึง 3): {processing_shipped_codes}\")"
   ]
  },
  {
   "cell_type": "markdown",
   "id": "f45b2268",
   "metadata": {},
   "source": [
    "### 3. เมธอดของ Tuple: count(), index() (Tuple Methods: count(), index())\n",
    "```Python\n",
    "# Tuple มีเมธอดน้อยกว่า List มาก เนื่องจากแก้ไขข้อมูลไม่ได้\n",
    "# เมธอดที่มีประโยชน์คือ count() และ index()\n",
    "```"
   ]
  },
  {
   "cell_type": "code",
   "execution_count": null,
   "id": "5586a829",
   "metadata": {},
   "outputs": [],
   "source": [
    "print(\"\\n--- เมธอดของ Tuple: count(), index() ---\")\n",
    "\n",
    "# count(): นับจำนวนครั้งที่สมาชิกปรากฏใน Tuple\n",
    "sample_tags = (\"sale\", \"new\", \"sale\", \"featured\", \"new\", \"clearance\")\n",
    "print(f\"Tuple ตัวอย่าง Tags: {sample_tags}\")\n",
    "print(f\"จำนวนครั้งที่ 'sale' ปรากฏ: {sample_tags.count('sale')}\")\n",
    "print(f\"จำนวนครั้งที่ 'new' ปรากฏ: {sample_tags.count('new')}\")\n",
    "print(f\"จำนวนครั้งที่ 'limited' ปรากฏ: {sample_tags.count('limited')}\") # สมาชิกที่ไม่มีอยู่ จะได้ 0\n",
    "\n",
    "# index(): คืนค่า Index ของสมาชิกตัวแรกที่พบ\n",
    "# ถ้าไม่พบสมาชิก จะเกิด ValueError\n",
    "try:\n",
    "    print(f\"Index แรกของ 'featured': {sample_tags.index('featured')}\")\n",
    "    print(f\"Index แรกของ 'sale': {sample_tags.index('sale')}\") # จะคืนค่า Index ของ 'sale' ตัวแรกที่เจอ\n",
    "    # print(sample_tags.index('limited')) # ลองยกเลิก comment เพื่อดู ValueError\n",
    "except ValueError as e:\n",
    "    print(f\"เกิด Error: {e}\")"
   ]
  },
  {
   "cell_type": "markdown",
   "id": "1ac26d00",
   "metadata": {},
   "source": [
    "### 4. คุณสมบัติที่ไม่สามารถเปลี่ยนแปลงได้ (Immutability of Tuples)\n",
    "```Python\n",
    "# นี่คือคุณสมบัติหลักที่ทำให้ Tuple แตกต่างจาก List\n",
    "# เมื่อสร้าง Tuple แล้ว เราไม่สามารถเปลี่ยนแปลงสมาชิกภายในได้\n",
    "# ถ้าพยายามจะแก้ไข จะเกิด TypeError\n",
    "```"
   ]
  },
  {
   "cell_type": "code",
   "execution_count": null,
   "id": "3fcd88b6",
   "metadata": {},
   "outputs": [],
   "source": [
    "print(\"\\n--- คุณสมบัติ Immutability ของ Tuples ---\")\n",
    "config_settings = (\"production\", \"db.ecommerce.com\", 5432, \"admin\") # (Environment, DB_Host, DB_Port, DB_User)\n",
    "print(f\"ค่า Config เริ่มต้น: {config_settings}\\n\")\n",
    "\n",
    "# ลองพยายามเปลี่ยนชื่อ Host (ซึ่งทำไม่ได้)\n",
    "try:\n",
    "    # config_settings[1] = \"new.db.ecommerce.com\" # บรรทัดนี้จะทำให้เกิด Error\n",
    "    print(\"พยายามเปลี่ยนชื่อ Host...\")\n",
    "    # ถ้าบรรทัดข้างบนทำงาน จะได้ Error: TypeError: 'tuple' object does not support item assignment\n",
    "except TypeError as e:\n",
    "    print(f\"ไม่สามารถแก้ไข Tuple ได้: {e}\")\n",
    "\n",
    "# ถ้าต้องการเปลี่ยนแปลงข้อมูลที่มาจาก Tuple ต้องสร้าง Tuple ใหม่\n",
    "# เช่น ถ้าต้องการ \"อัปเดต\" ค่า Config อาจจะต้องสร้าง Tuple ใหม่ทั้งหมด\n",
    "new_config_settings = (\"staging\", \"db.staging.ecommerce.com\", 5432, \"admin\")\n",
    "print(f\"\\nค่า Config ใหม่ (สร้าง Tuple ใหม่): {new_config_settings}\")"
   ]
  },
  {
   "cell_type": "markdown",
   "id": "71070513",
   "metadata": {},
   "source": [
    "### 5. การกระจาย Tuple (Unpacking Tuples)"
   ]
  },
  {
   "cell_type": "code",
   "execution_count": null,
   "id": "af579371",
   "metadata": {},
   "outputs": [],
   "source": [
    "# Unpacking คือการกำหนดค่าจากสมาชิกใน Tuple ไปยังตัวแปรหลายๆ ตัวพร้อมกันในบรรทัดเดียว\n",
    "# จำนวนตัวแปรที่ใช้ Unpack ต้องเท่ากับจำนวนสมาชิกใน Tuple พอดี\n",
    "\n",
    "print(\"\\n--- การกระจาย Tuple (Unpacking) ---\")\n",
    "product_summary = (\"PID-A789\", \"Wireless Mouse\", 25.50) # (Product ID, Name, Price)\n",
    "\n",
    "# Unpack Tuple เข้าสู่ตัวแปร 3 ตัว\n",
    "product_id, product_name, product_price = product_summary\n",
    "\n",
    "print(f\"Product ID: {product_id}\")\n",
    "print(f\"Product Name: {product_name}\")\n",
    "print(f\"Product Price: {product_price}\")\n",
    "\n",
    "# ตัวอย่างใน E-commerce: Unpack ข้อมูลผู้ใช้ที่ได้จากฐานข้อมูล\n",
    "user_data = (101, \"john.doe@example.com\", \"John Doe\", \"Active\") # (User ID, Email, Name, Status)\n",
    "user_id, email, name, status = user_data\n",
    "print(f\"\\nข้อมูลผู้ใช้: ID={user_id}, Email={email}, Name={name}, Status={status}\")\n",
    "\n",
    "# ข้อควรระวัง: จำนวนตัวแปรต้องตรงกับจำนวนสมาชิก\n",
    "# user_id, email = user_data # บรรทัดนี้จะทำให้เกิด Error: ValueError: not enough values to unpack (expected 2, got 4)\n",
    "# user_id, email, name, status, address = user_data # บรรทัดนี้จะทำให้เกิด Error: ValueError: too many values to unpack (expected 5)"
   ]
  },
  {
   "cell_type": "markdown",
   "id": "142c953a",
   "metadata": {},
   "source": [
    "### 6. กรณีการใช้งาน Tuple (Use Cases for Tuples)\n",
    "```Python\n",
    "# เมื่อไหร่ที่เราควรเลือกใช้ Tuple แทน List ในงาน E-commerce?\n",
    "# 1. เมื่อข้อมูลมีลำดับและไม่ควรเปลี่ยนแปลง:\n",
    "#    - ข้อมูลสินค้าที่ไม่ควรแก้ไข เช่น SKU, รหัสประจำตัวสินค้า\n",
    "#    - ค่าคงที่ในการตั้งค่าระบบ (Configuration settings) เช่น API keys, DB credentials (ควรเก็บในไฟล์ที่ปลอดภัยกว่า แต่ถ้าต้องใช้ในโค้ดชั่วคราว Tuples ป้องกันการแก้ไขได้)\n",
    "#    - ชุดตัวเลือกที่กำหนดไว้ตายตัว เช่น ประเภทการชำระเงินที่รองรับ (\"Credit Card\", \"PayPal\", \"Bank Transfer\")\n",
    "#    - รหัสสถานะต่างๆ ที่ไม่เปลี่ยน (Error codes, HTTP status codes)\n",
    "# 2. เมื่อต้องการส่งค่ากลับจากฟังก์ชันหลายค่า:\n",
    "#    - ฟังก์ชันที่ดึงข้อมูลสินค้า อาจคืนค่าเป็น Tuple เช่น `return (sku, name, price, stock)`\n",
    "#    - ฟังก์ชันตรวจสอบการสั่งซื้อ อาจคืนค่าเป็น Tuple เช่น `return (order_id, status, total_amount)`\n",
    "# 3. ใช้เป็น Key ของ Dictionary:\n",
    "#    - เนื่องจาก Tuple ไม่สามารถเปลี่ยนแปลงได้ (immutable) ทำให้สามารถนำไปใช้เป็น Key ใน Dictionary ได้\n",
    "#    - ตัวอย่าง: การเก็บข้อมูลสต็อกสินค้าในคลังต่างๆ โดยใช้ Tuple `(product_id, warehouse_id)` เป็น Key\n",
    "```"
   ]
  },
  {
   "cell_type": "code",
   "execution_count": null,
   "id": "c5aa65e0",
   "metadata": {},
   "outputs": [],
   "source": [
    "print(\"\\n--- กรณีการใช้งาน Tuple ใน E-commerce ---\")\n",
    "\n",
    "# ตัวอย่าง: ใช้ Tuple เป็น Key ใน Dictionary สำหรับติดตามสต็อกสินค้าในคลังต่างๆ\n",
    "# key คือ (รหัสสินค้า, รหัสคลัง), value คือ จำนวนสต็อก\n",
    "inventory_stock = {\n",
    "    (\"SKU-12345\", \"WH-001\"): 50,\n",
    "    (\"SKU-12345\", \"WH-002\"): 30,\n",
    "    (\"PID-A789\", \"WH-001\"): 150\n",
    "}\n",
    "\n",
    "print(f\"สต็อกสินค้า SKU-12345 ในคลัง WH-001: {inventory_stock[('SKU-12345', 'WH-001')]}\")\n"
   ]
  },
  {
   "cell_type": "code",
   "execution_count": null,
   "id": "e84113bb",
   "metadata": {},
   "outputs": [],
   "source": [
    "# ตัวอย่าง: ฟังก์ชันที่คืนค่าเป็น Tuple\n",
    "def get_product_details(product_sku):\n",
    "    # สมมติว่าดึงข้อมูลจากฐานข้อมูลแล้วได้ผลลัพธ์ดังนี้\n",
    "    if product_sku == \"SKU-12345\":\n",
    "        return (\"SKU-12345\", \"Laptop Model X\", 1200.00, 80) # (SKU, Name, Price, Current Stock)\n",
    "    elif product_sku == \"PID-A789\":\n",
    "         return (\"PID-A789\", \"Wireless Mouse\", 25.50, 150)\n",
    "    else:\n",
    "        return (None, None, None, None) # คืนค่า None ใน Tuple หากไม่พบสินค้า\n",
    "\n",
    "sku_to_find = \"SKU-12345\"\n",
    "sku, name, price, stock = get_product_details(sku_to_find)\n",
    "\n",
    "if sku is not None:\n",
    "    print(f\"\\nรายละเอียดสินค้า (จากฟังก์ชัน):\")\n",
    "    print(f\"  SKU: {sku}\")\n",
    "    print(f\"  ชื่อ: {name}\")\n",
    "    print(f\"  ราคา: {price}\")\n",
    "    print(f\"  สต็อกปัจจุบัน: {stock}\")\n",
    "else:\n",
    "    print(f\"\\nไม่พบสินค้า SKU: {sku_to_find}\")\n"
   ]
  },
  {
   "cell_type": "code",
   "execution_count": null,
   "id": "dc71781b",
   "metadata": {},
   "outputs": [],
   "source": [
    "'''Sample Code:'''\n",
    "\n",
    "# Example 1: Creating and accessing a product configuration tuple\n",
    "product_config = (\"ELEC-456\", \"Tablet Z\", 450.00, True)\n",
    "print(f\"Product config tuple: {product_config}\")\n",
    "print(f\"Product name: {product_config[1]}\")\n",
    "print(f\"Is available: {product_config[-1]}\")\n",
    "\n",
    "# Example 2: Slicing a tuple of return reasons\n",
    "return_reasons = (\"Defective\", \"Wrong Item Sent\", \"Changed Mind\", \"Size Issue\", \"Not as Described\")\n",
    "common_reasons = return_reasons[:3] # Get the first three common reasons\n",
    "print(f\"Common return reasons: {common_reasons}\\n\")\n",
    "\n",
    "# Example 3: Using count() and index()\n",
    "status_log = (100, 200, 200, 300, 400, 200, 500) # Simplified order status log\n",
    "print(f\"Status log: {status_log}\")\n",
    "print(f\"Count of status 200: {status_log.count(200)}\")\n",
    "print(f\"First index of status 300: {status_log.index(300)}\")\n",
    "\n"
   ]
  },
  {
   "cell_type": "code",
   "execution_count": null,
   "id": "6389a5c0",
   "metadata": {},
   "outputs": [],
   "source": [
    "# Example 4: Demonstrating immutability (will cause error if uncommented)\n",
    "# order_details = (\"ORD-789\", \"Pending\", 150.75)\n",
    "# order_details[1] = \"Shipped\" # This line would raise a TypeError\n",
    "\n",
    "# Example 5: Unpacking a tuple of order summary data\n",
    "order_summary_data = (\"ORD-789\", \"2023-10-27\", 150.75, \"Credit Card\")\n",
    "order_id, order_date, order_total, payment_method = order_summary_data\n",
    "print(f\"Order ID: {order_id}, Date: {order_date}, Total: {order_total}, Payment: {payment_method}\")\n",
    "\n",
    "# Example 6: Using a tuple as a dictionary key for pricing variations\n",
    "# Key: (product_id, currency), Value: price\n",
    "pricing_variations = {\n",
    "    (\"SKU-12345\", \"USD\"): 1200.00,\n",
    "    (\"SKU-12345\", \"EUR\"): 1050.00,\n",
    "    (\"PID-A789\", \"USD\"): 25.50,\n",
    "    (\"PID-A789\", \"GBP\"): 22.00\n",
    "}\n",
    "print(f\"Price of SKU-12345 in EUR: {pricing_variations[('SKU-12345', 'EUR')]}\")"
   ]
  },
  {
   "cell_type": "code",
   "execution_count": null,
   "id": "6335ba5f",
   "metadata": {},
   "outputs": [],
   "source": []
  },
  {
   "cell_type": "markdown",
   "id": "7e7cca9a",
   "metadata": {},
   "source": [
    "### **Exercises:**\n",
    "```Python\n",
    "# Exercise 1: สร้าง Tuple สำหรับเก็บข้อมูลผู้ดูแลระบบ (Admin)\n",
    "# ข้อมูลที่ต้องการ: (ID ผู้ดูแล, ชื่อผู้ใช้, รหัสผ่าน (สมมติ), สิทธิ์การเข้าถึง)\n",
    "# ให้สร้าง Tuple ชื่อ `admin_user` เก็บข้อมูลเหล่านี้\n",
    "# จากนั้นให้พิมพ์ชื่อผู้ใช้และสิทธิ์การเข้าถึงออกมาโดยใช้ Indexing\n",
    "# พิมพ์ชนิดของตัวแปร `admin_user`\n",
    "\n",
    "# Exercise 2: เข้าถึงข้อมูลสินค้าและ Slicing\n",
    "# กำหนด Tuple ข้อมูลสินค้า: `product_full_info = (\"BOOK-999\", \"The Martian\", \"Andy Weir\", 15.99, 250, \"Science Fiction\")` # (SKU, Title, Author, Price, Stock, Genre)\n",
    "# ให้ใช้ Indexing เพื่อเข้าถึง:\n",
    "# - ชื่อหนังสือ (Title)\n",
    "# - ประเภทหนังสือ (Genre)\n",
    "# ให้ใช้ Slicing เพื่อดึงข้อมูล:\n",
    "# - (Author, Price) ในรูปแบบ Tuple ใหม่\n",
    "\n",
    "# Exercise 3: ลองแก้ไข Tuple และจัดการข้อผิดพลาด\n",
    "# สร้าง Tuple ชื่อ `shipping_zones = (\"Zone A\", \"Zone B\", \"Zone C\")`\n",
    "# ลองเขียนโค้ดที่พยายามจะเปลี่ยน \"Zone B\" เป็น \"Zone B - Extended\"\n",
    "# ใช้ try-except block เพื่อดักจับ TypeError ที่จะเกิดขึ้น และพิมพ์ข้อความอธิบายว่าทำไมถึงแก้ไขไม่ได้\n",
    "\n",
    "# Exercise 4: การกระจาย Tuple (Unpacking)\n",
    "# กำหนด Tuple ที่เก็บข้อมูลสรุปการคืนสินค้า: `return_summary = (\"RET-555\", \"2023-10-26\", \"Defective\", 75.00)` # (Return ID, Return Date, Reason, Refund Amount)\n",
    "# ให้ใช้ Unpacking เพื่อกำหนดค่าเหล่านี้ให้กับตัวแปร `return_id`, `return_date`, `return_reason`, `refund_amount`\n",
    "# จากนั้นพิมพ์ค่าของตัวแปรเหล่านี้ออกมาในรูปแบบประโยคที่อ่านง่าย\n",
    "\n",
    "# Exercise 5: ใช้ Tuple เป็น Key ใน Dictionary\n",
    "# สร้าง Dictionary ที่เก็บข้อมูลการจัดส่งตามคู่ (รหัสสินค้า, รหัสโซนจัดส่ง)\n",
    "# ตัวอย่าง: `shipping_costs = {(\"SKU-12345\", \"Zone A\"): 5.00, (\"SKU-12345\", \"Zone B\"): 7.50, (\"PID-A789\", \"Zone A\"): 3.00}`\n",
    "# ให้เพิ่มข้อมูลการจัดส่งสินค้า \"PID-A789\" ไปยัง \"Zone B\" ด้วยค่า 4.50\n",
    "# จากนั้นพิมพ์ค่าจัดส่งของ \"SKU-12345\" ใน \"Zone B\" ออกมา\n",
    "```"
   ]
  }
 ],
 "metadata": {
  "kernelspec": {
   "display_name": ".venv",
   "language": "python",
   "name": "python3"
  },
  "language_info": {
   "codemirror_mode": {
    "name": "ipython",
    "version": 3
   },
   "file_extension": ".py",
   "mimetype": "text/x-python",
   "name": "python",
   "nbconvert_exporter": "python",
   "pygments_lexer": "ipython3",
   "version": "3.12.3"
  }
 },
 "nbformat": 4,
 "nbformat_minor": 5
}
