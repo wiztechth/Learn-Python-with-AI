{
 "cells": [
  {
   "cell_type": "code",
   "execution_count": null,
   "id": "7df66e5f",
   "metadata": {},
   "outputs": [],
   "source": []
  },
  {
   "cell_type": "markdown",
   "id": "10bf76f8",
   "metadata": {},
   "source": [
    "## **Introduction to Sets**\n",
    "\n",
    "เซต (Set) คือโครงสร้างข้อมูลประเภทหนึ่งใน Python ใช้สำหรับเก็บกลุ่มของสมาชิก โดยทีคุณสมบัติที่สำคัญตือ\n",
    "  - `ไม่เรียงลำดับ (unordered)`\n",
    "  - `สมาชิกในเซตจะต้องไม่ซ้ำกัน (unique)` \n",
    "\n",
    "หากเราพยายามเพิ่มสมาชิกที่ซ้ำเข้าไป สมาชิกนั้นจะไม่ถูกเพิ่มเข้าไปในเซต"
   ]
  },
  {
   "cell_type": "markdown",
   "id": "96559a5f",
   "metadata": {},
   "source": [
    "#### หัวข้ออธิบาย\n",
    "- **Unordered collections** : Elements in a set have no specific order.\n",
    "- **No duplicate elements** : Each element must be unique.\n",
    "- **Mutable** : Can add or remove elements after creation.\n",
    "- **Not indexable** : Elements cannot be accessed by position.\n",
    "- **Created using curly braces {} or set() constructor** .\n",
    "- **Supports mathematical operations** : Union, intersection, difference, etc.\n",
    "- **Useful for membership testing and eliminating duplicates** .\n",
    "- **Can contain immutable types** : Numbers, strings, tuples (but not lists or dicts).\n",
    "- **Frozenset** : Immutable version of a set."
   ]
  },
  {
   "cell_type": "markdown",
   "id": "8e0810ac",
   "metadata": {},
   "source": [
    "#### 1. Unordered collections"
   ]
  },
  {
   "cell_type": "code",
   "execution_count": null,
   "id": "221434e8",
   "metadata": {},
   "outputs": [],
   "source": [
    "# Order is not preserved\n",
    "s = {3, 1, 5, 4, 2}\n",
    "print(s)  # Output may be: {1, 2, 3} or any permutation"
   ]
  },
  {
   "cell_type": "markdown",
   "id": "fd294beb",
   "metadata": {},
   "source": [
    "#### 2. No duplicate elements"
   ]
  },
  {
   "cell_type": "code",
   "execution_count": null,
   "id": "5b034691",
   "metadata": {},
   "outputs": [],
   "source": [
    "# Duplicates are removed\n",
    "s = {1, 2, 2, 3, 3, 3}\n",
    "print(s)  # Output: {1, 2, 3}\n",
    "\n",
    "# Edge case: 1 and 1.0 are considered duplicates\n",
    "s = {1, 1.0, 2}\n",
    "print(s)  # Output: {1.0, 2} (since 1 == 1.0 → treated as same)"
   ]
  },
  {
   "cell_type": "markdown",
   "id": "8fa0ea49",
   "metadata": {},
   "source": [
    "#### 3. Mutable"
   ]
  },
  {
   "cell_type": "code",
   "execution_count": null,
   "id": "ea22d793",
   "metadata": {},
   "outputs": [],
   "source": [
    "# Add/remove elements\n",
    "s = {1, 2, 3}\n",
    "s.add(4)          # Add single element\n",
    "s.update([5, 6])  # Add multiple elements\n",
    "print(\"Before Remove\", s)  # Output: {1, 2, 3, 4, 5, 6}\n",
    "s.remove(2)       # Remove existing element\n",
    "s.discard(10)     # Safe removal (no error if missing)\n",
    "print(s)  # Output: {1, 3, 4, 5, 6}"
   ]
  },
  {
   "cell_type": "code",
   "execution_count": null,
   "id": "675111ef",
   "metadata": {},
   "outputs": [],
   "source": [
    "s.remove(10)"
   ]
  },
  {
   "cell_type": "markdown",
   "id": "81f72a3e",
   "metadata": {},
   "source": [
    "#### 4. Not indexable"
   ]
  },
  {
   "cell_type": "code",
   "execution_count": null,
   "id": "647444d4",
   "metadata": {},
   "outputs": [],
   "source": [
    "# No indexing or slicing\n",
    "s = {1, 2, 3}\n",
    "# print(s[0])  # Raises TypeError\n",
    "\n",
    "# Workaround: Convert to list\n",
    "elements = list(s)\n",
    "print(\"Type of elements:\", type(elements))  # Output: <class 'list'>\n",
    "print(elements[0])  # Output: arbitrary element (not reliable)"
   ]
  },
  {
   "cell_type": "markdown",
   "id": "c87a3914",
   "metadata": {},
   "source": [
    "#### 5. Created using {} or set()"
   ]
  },
  {
   "cell_type": "code",
   "execution_count": null,
   "id": "eb5a5df1",
   "metadata": {},
   "outputs": [],
   "source": [
    "# Empty set\n",
    "empty_set = set()  # Correct\n",
    "# empty_set = {}   # ❌ Creates a dictionary instead!\n",
    "\n",
    "# From iterable\n",
    "s1 = {1, 2, 3}                   # Curly braces\n",
    "s2 = set([2, 3, 4])              # From list\n",
    "s3 = set(\"hello\")                # From string → {'h','e','l','o'} (no duplicates)\n",
    "print(s1, s2, s3)  # Output: {1, 2, 3} {2, 3, 4} {'h', 'e', 'l', 'o'}"
   ]
  },
  {
   "cell_type": "markdown",
   "id": "aa085280",
   "metadata": {},
   "source": [
    "#### 6. Supports mathematical operations"
   ]
  },
  {
   "cell_type": "code",
   "execution_count": null,
   "id": "ff9fcde3",
   "metadata": {},
   "outputs": [],
   "source": [
    "a = {1, 2, 3, 4}\n",
    "b = {3, 4, 5, 6}\n",
    "\n",
    "# Union\n",
    "print(a | b)  # or a.union(b) → {1, 2, 3, 4, 5, 6}\n",
    "\n",
    "# Intersection\n",
    "print(a & b)  # or a.intersection(b) → {3}\n",
    "\n",
    "# Difference\n",
    "print(a - b)  # or a.difference(b) → {1, 2}\n",
    "\n",
    "# Symmetric difference\n",
    "print(a ^ b)  # or a.symmetric_difference(b) → {1, 2, 5, 6}"
   ]
  },
  {
   "cell_type": "markdown",
   "id": "87e4eda0",
   "metadata": {},
   "source": [
    "#### 7. Membership testing"
   ]
  },
  {
   "cell_type": "code",
   "execution_count": null,
   "id": "a616e196",
   "metadata": {},
   "outputs": [],
   "source": [
    "s = {1, 2, 3}\n",
    "print(2 in s)   # True\n",
    "print(10 in s)  # False"
   ]
  },
  {
   "cell_type": "markdown",
   "id": "ad5e829b",
   "metadata": {},
   "source": [
    "#### 8. Can contain immutable types"
   ]
  },
  {
   "cell_type": "code",
   "execution_count": null,
   "id": "9993cdf0",
   "metadata": {},
   "outputs": [],
   "source": [
    "# Valid: all elements are immutable\n",
    "s = {1, \"hello\", (1, 2)}\n",
    "print(s)\n",
    "\n",
    "# Invalid: list inside a set (raises TypeError)\n",
    "s = {1, {\"2\":2, \"3\":3}}  # Uncommenting this line will cause error"
   ]
  },
  {
   "cell_type": "markdown",
   "id": "ff0cab4d",
   "metadata": {},
   "source": [
    "#### 9. Frozenset (immutable set)"
   ]
  },
  {
   "cell_type": "code",
   "execution_count": null,
   "id": "5e019d03",
   "metadata": {},
   "outputs": [],
   "source": [
    "fs = frozenset([1, 2, 3])\n",
    "# fs.add(4)  # This will raise AttributeError\n",
    "\n",
    "normal_set = set([1, 2, 3])\n",
    "normal_set.add(4)  # This works fine\n",
    "print(normal_set)  # Output: {1, 2, 3, 4}\n"
   ]
  },
  {
   "cell_type": "code",
   "execution_count": null,
   "id": "757e2e32",
   "metadata": {},
   "outputs": [],
   "source": [
    "# Frozenset: Immutable version of a set\n",
    "frozen_s = frozenset([1, 2, 3, 4])\n",
    "print(f\"Frozenset: {frozen_s}\")\n",
    "# The following lines would raise an AttributeError because frozensets are immutable:\n",
    "# frozen_s.add(5)\n",
    "# frozen_s.remove(1)\n",
    "try:\n",
    "    frozen_s.add(5)\n",
    "except AttributeError as e:\n",
    "    print(f\"Frozenset is immutable (add): {e}\")\n",
    "\n",
    "try:\n",
    "    frozen_s.remove(1)\n",
    "except AttributeError as e:\n",
    "    print(f\"Frozenset is immutable (remove): {e}\")\n",
    "\n",
    "# Frozensets can be elements of other sets because they are hashable\n",
    "set_of_frozensets = {frozenset({1, 2}), frozenset({3, 4})}\n",
    "print(f\"Set containing frozensets: {set_of_frozensets}\")\n",
    "\n",
    "# Can be used as dictionary keys\n",
    "d = {frozenset: \"It's a value in a dictionary\"}\n",
    "print(d)"
   ]
  },
  {
   "cell_type": "code",
   "execution_count": null,
   "id": "146e9bd8",
   "metadata": {},
   "outputs": [],
   "source": [
    "print(d[frozenset]) # Output: It's a value in a dictionary"
   ]
  }
 ],
 "metadata": {
  "kernelspec": {
   "display_name": ".venv",
   "language": "python",
   "name": "python3"
  },
  "language_info": {
   "codemirror_mode": {
    "name": "ipython",
    "version": 3
   },
   "file_extension": ".py",
   "mimetype": "text/x-python",
   "name": "python",
   "nbconvert_exporter": "python",
   "pygments_lexer": "ipython3",
   "version": "3.12.3"
  }
 },
 "nbformat": 4,
 "nbformat_minor": 5
}
