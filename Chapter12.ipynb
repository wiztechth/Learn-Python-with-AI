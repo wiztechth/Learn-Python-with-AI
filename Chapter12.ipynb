{
 "cells": [
  {
   "cell_type": "markdown",
   "id": "56c4b744",
   "metadata": {},
   "source": [
    "## Chapter 12: File Handling\n",
    "\n",
    "### **1. การเปิดไฟล์ด้วยฟังก์ชัน `open()`**\n",
    "\n",
    "**คำอธิบาย:**\n",
    "ฟังก์ชัน `open()` เป็นจุดเริ่มต้นในการทำงานกับไฟล์ใน Python ใช้สำหรับ \"เปิด\" ไฟล์เพื่อเตรียมพร้อมสำหรับการอ่าน, เขียน หรือแก้ไข โดยจะคืนค่าเป็นวัตถุไฟล์ (file object) ที่เราจะใช้ในการดำเนินการต่อได้ พารามิเตอร์หลักที่ต้องระบุคือ:\n",
    "*   **ชื่อไฟล์ (filename):** Path ไปยังไฟล์ที่ต้องการเปิด (เช่น 'data.txt' หรือ 'C:/Users/User/document.csv')\n",
    "*   **โหมด (mode):** ระบุว่าจะเปิดไฟล์เพื่อทำอะไร (เช่น อ่าน, เขียน, เพิ่มต่อท้าย) ซึ่งจะอธิบายในหัวข้อถัดไป\n",
    "*   **encoding (การเข้ารหัส):** สำหรับไฟล์ข้อความ (text file) ควรระบุการเข้ารหัสของไฟล์ เช่น `'utf-8'` เพื่อให้ Python อ่าน/เขียนข้อความภาษาไทยหรือภาษาอื่นๆ ได้ถูกต้อง หากไม่ระบุ Python จะใช้ default encoding ของระบบ ซึ่งอาจทำให้เกิดปัญหาในการอ่านข้อความผิดเพี้ยน (Mojibake)\n",
    "\n",
    "**ตัวอย่างโค้ด:**"
   ]
  },
  {
   "cell_type": "code",
   "execution_count": null,
   "id": "a3951c5e",
   "metadata": {},
   "outputs": [],
   "source": [
    "# Open a text file for reading with UTF-8 encoding\n",
    "# The 'f' variable is our file object\n",
    "f = open('my_document.txt', 'r', encoding='utf-8')\n",
    "\n",
    "# Later, you would perform operations like reading or writing\n",
    "# and then close the file:\n",
    "# f.read()\n",
    "# f.close()\n",
    "\n",
    "print(\"File 'my_document.txt' opened successfully (in theory).\")"
   ]
  },
  {
   "cell_type": "markdown",
   "id": "abe78569",
   "metadata": {},
   "source": [
    "### **2. การเลือกโหมดที่ถูกต้อง**\n",
    "\n",
    "**คำอธิบาย:**\n",
    "การเลือกโหมดที่ถูกต้องเป็นสิ่งสำคัญมาก เพราะมีผลต่อพฤติกรรมการทำงานของ Python กับไฟล์:\n",
    "\n",
    "*   **'r' (read):**\n",
    "    *   เปิดไฟล์เพื่ออ่านอย่างเดียว\n",
    "    *   ไฟล์ต้องมีอยู่แล้ว มิฉะนั้นจะเกิด `FileNotFoundError`\n",
    "    *   Cursor จะอยู่ที่จุดเริ่มต้นของไฟล์\n",
    "*   **'w' (write):**\n",
    "    *   เปิดไฟล์เพื่อเขียนอย่างเดียว\n",
    "    *   **หากไฟล์มีอยู่แล้ว เนื้อหาทั้งหมดจะถูกลบ (truncated) และเขียนทับด้วยข้อมูลใหม่**\n",
    "    *   หากไฟล์ไม่มีอยู่ จะสร้างไฟล์ใหม่\n",
    "    *   Cursor จะอยู่ที่จุดเริ่มต้นของไฟล์\n",
    "*   **'a' (append):**\n",
    "    *   เปิดไฟล์เพื่อเขียน โดยข้อมูลใหม่จะถูกเพิ่มต่อท้ายเนื้อหาเดิม\n",
    "    *   หากไฟล์ไม่มีอยู่ จะสร้างไฟล์ใหม่\n",
    "    *   Cursor จะอยู่ที่ท้ายไฟล์\n",
    "*   **'x' (exclusive creation):**\n",
    "    *   เปิดไฟล์เพื่อเขียน **เฉพาะในกรณีที่ไฟล์นั้นยังไม่มีอยู่เท่านั้น**\n",
    "    *   หากไฟล์มีอยู่แล้ว จะเกิด `FileExistsError`\n",
    "    *   เหมาะสำหรับกรณีที่คุณต้องการสร้างไฟล์ใหม่จริงๆ และไม่อยากเผลอเขียนทับไฟล์เก่า\n",
    "*   **'b' (binary):**\n",
    "    *   ใช้ร่วมกับโหมดอื่น (เช่น `'rb'`, `'wb'`, `'ab'`) เพื่อเปิดไฟล์ในโหมดไบนารี (bytes)\n",
    "    *   ใช้สำหรับไฟล์ที่ไม่ใช่ข้อความ เช่น รูปภาพ, วิดีโอ, ไฟล์เสียง, PDF\n",
    "    *   การอ่าน/เขียนจะทำเป็น `bytes` ไม่ใช่ `string`\n",
    "*   **'+' (read and write):**\n",
    "    *   ใช้ร่วมกับโหมดอื่น (เช่น `'r+'`, `'w+'`, `'a+'`) เพื่อให้สามารถอ่านและเขียนไฟล์ได้ในโหมดเดียวกัน\n",
    "    *   `'r+'`: เปิดไฟล์เพื่ออ่านและเขียน (ไฟล์ต้องมีอยู่), cursor เริ่มต้น\n",
    "    *   `'w+'`: เปิดไฟล์เพื่ออ่านและเขียน (ลบเนื้อหาเดิมหากไฟล์มีอยู่), cursor เริ่มต้น\n",
    "    *   `'a+'`: เปิดไฟล์เพื่ออ่านและเขียน (ข้อมูลใหม่ต่อท้าย), cursor อยู่ท้ายไฟล์\n",
    "\n",
    "**ตัวอย่างโค้ด:**"
   ]
  },
  {
   "cell_type": "code",
   "execution_count": null,
   "id": "0f85e21a",
   "metadata": {},
   "outputs": [],
   "source": [
    "# Example for 'w' mode (will overwrite if 'my_file.txt' exists)\n",
    "with open('my_file.txt', 'w', encoding='utf-8') as f:\n",
    "    f.write(\"This is the first line.\\n\")\n",
    "    f.write(\"This will overwrite any previous content.\\n\")"
   ]
  },
  {
   "cell_type": "code",
   "execution_count": null,
   "id": "f1c86227",
   "metadata": {},
   "outputs": [],
   "source": [
    "# Example for 'a' mode (will append to 'my_file.txt')\n",
    "with open('my_file.txt', 'a', encoding='utf-8') as f:\n",
    "    f.write(\"This line is appended.\\n\")\n",
    "    f.write(\"Another appended line.\\n\")\n"
   ]
  },
  {
   "cell_type": "code",
   "execution_count": null,
   "id": "b9a98705",
   "metadata": {},
   "outputs": [],
   "source": [
    "# Example for 'x' mode (will raise FileExistsError if 'unique_file.txt' exists)\n",
    "try:\n",
    "    with open('unique_file.txt', 'x', encoding='utf-8') as f:\n",
    "        f.write(\"This file was created exclusively.\\n\")\n",
    "except FileExistsError:\n",
    "    print(\"Error: 'unique_file.txt' already exists.\")\n",
    "\n"
   ]
  },
  {
   "cell_type": "code",
   "execution_count": null,
   "id": "3b1ff1c6",
   "metadata": {},
   "outputs": [],
   "source": [
    "# Example for 'rb' (read binary) mode\n",
    "try:\n",
    "    with open('image.jpg', 'rb') as img_file:\n",
    "        binary_data = img_file.read()\n",
    "        print(f\"Read {len(binary_data)} bytes from image.jpg\")\n",
    "except FileNotFoundError:\n",
    "    print(\"Image file not found. Please create 'image.jpg' first.\")"
   ]
  },
  {
   "cell_type": "markdown",
   "id": "cb057cf2",
   "metadata": {},
   "source": [
    "### **3. การอ่านเนื้อหาไฟล์**\n",
    "\n",
    "**คำอธิบาย:**\n",
    "เมื่อเปิดไฟล์ในโหมดอ่าน ('r' หรือ 'r+') แล้ว เราสามารถใช้เมธอดต่างๆ เพื่อดึงเนื้อหาจากไฟล์ได้:\n",
    "\n",
    "*   **`read()`:** อ่านเนื้อหาทั้งหมดของไฟล์เป็นสตริงเดียว (สำหรับไฟล์ข้อความ) หรือไบต์เดียว (สำหรับไฟล์ไบนารี) หากไฟล์มีขนาดใหญ่มาก การใช้ `read()` อาจทำให้หน่วยความจำเต็มได้\n",
    "    *   `read(n)`: อ่านตัวอักษร (หรือไบต์) จำนวน `n` ตัว จากตำแหน่งปัจจุบันของ cursor\n",
    "*   **`readline()`:** อ่านเนื้อหาทีละบรรทัด โดยจะอ่านจนกว่าจะเจออักขระขึ้นบรรทัดใหม่ (`\\n`) หรือจนจบบรรทัด คืนค่าเป็นสตริงพร้อมกับ `\\n` ท้ายบรรทัด (ถ้ามี)\n",
    "*   **`readlines()`:** อ่านเนื้อหาทั้งหมดของไฟล์ โดยแยกแต่ละบรรทัดเก็บไว้ในลิสต์ (list) ซึ่งแต่ละสมาชิกของลิสต์คือสตริงหนึ่งบรรทัด (รวม `\\n` ท้ายบรรทัด)\n",
    "*   **การวนลูป (Iterate directly over the file object):** เป็นวิธีที่แนะนำและมีประสิทธิภาพที่สุดสำหรับการอ่านไฟล์ทีละบรรทัด โดยเฉพาะไฟล์ขนาดใหญ่ เพราะจะอ่านและประมวลผลทีละบรรทัดโดยไม่โหลดทั้งไฟล์เข้าสู่หน่วยความจำพร้อมกัน\n",
    "\n",
    "**ตัวอย่างโค้ด:**"
   ]
  },
  {
   "cell_type": "code",
   "execution_count": null,
   "id": "f38cba44",
   "metadata": {},
   "outputs": [],
   "source": [
    "# Create a dummy file for reading examples\n",
    "with open('sample_read.txt', 'w', encoding='utf-8') as f:\n",
    "    f.write(\"First line of text.\\n\")\n",
    "    f.write(\"Second line here.\\n\")\n",
    "    f.write(\"Third and final line.\")\n",
    "\n",
    "# --- Using read() ---\n",
    "print(\"--- Using read() ---\")\n",
    "with open('sample_read.txt', 'r', encoding='utf-8') as f:\n",
    "    content = f.read()\n",
    "    print(content)"
   ]
  },
  {
   "cell_type": "code",
   "execution_count": null,
   "id": "fe58994a",
   "metadata": {},
   "outputs": [],
   "source": [
    "# --- Using readline() ---\n",
    "print(\"\\n--- Using readline() ---\")\n",
    "with open('sample_read.txt', 'r', encoding='utf-8') as f:\n",
    "    line1 = f.readline()\n",
    "    line2 = f.readline()\n",
    "    print(f\"Line 1: {line1.strip()}\") # .strip() removes leading/trailing whitespace including '\\n'\n",
    "    print(f\"Line 2: {line2.strip()}\")"
   ]
  },
  {
   "cell_type": "code",
   "execution_count": null,
   "id": "c7eda6e3",
   "metadata": {},
   "outputs": [],
   "source": [
    "# --- Using readlines() ---\n",
    "print(\"\\n--- Using readlines() ---\")\n",
    "with open('sample_read.txt', 'r', encoding='utf-8') as f:\n",
    "    lines_list = f.readlines()\n",
    "    print(lines_list) # Shows list of strings with '\\n'\n",
    "    for line in lines_list:\n",
    "        print(line.strip())"
   ]
  },
  {
   "cell_type": "code",
   "execution_count": null,
   "id": "177b99f5",
   "metadata": {},
   "outputs": [],
   "source": [
    "# --- Iterating directly over the file object (Recommended) ---\n",
    "print(\"\\n--- Iterating directly (Recommended for large files) ---\")\n",
    "with open('sample_read.txt', 'r', encoding='utf-8') as f:\n",
    "    for line in f:\n",
    "        print(f\"Processed: {line.strip()}\")"
   ]
  },
  {
   "cell_type": "markdown",
   "id": "bda408f0",
   "metadata": {},
   "source": [
    "### **4. การเขียนเนื้อหาไฟล์**\n",
    "\n",
    "**คำอธิบาย:**\n",
    "เมื่อเปิดไฟล์ในโหมดเขียน ('w', 'a', 'x', 'w+', 'a+') เราสามารถใช้เมธอดเหล่านี้เพื่อเขียนข้อมูลลงไฟล์:\n",
    "\n",
    "*   **`write(string)`:**\n",
    "    *   ใช้สำหรับเขียนสตริง (สำหรับไฟล์ข้อความ) หรือไบต์ (สำหรับไฟล์ไบนารี) ลงในไฟล์ที่ตำแหน่งปัจจุบันของ cursor\n",
    "    *   **ไม่ใส่ตัวอักษรขึ้นบรรทัดใหม่ (`\\n`) ให้อัตโนมัติ** คุณต้องใส่เองหากต้องการขึ้นบรรทัดใหม่\n",
    "    *   คืนค่าเป็นจำนวนตัวอักษรหรือไบต์ที่เขียนไป\n",
    "*   **`writelines(list_of_strings)`:**\n",
    "    *   ใช้สำหรับเขียนรายการของสตริง (หรือไบต์) ลงในไฟล์\n",
    "    *   แต่ละสตริงในลิสต์จะถูกเขียนต่อกันไป\n",
    "    *   **ไม่ใส่ตัวอักษรขึ้นบรรทัดใหม่ (`\\n`) ให้อัตโนมัติระหว่างแต่ละสตริงในลิสต์** คุณต้องใส่ `\\n` เองในแต่ละสตริงหากต้องการให้ขึ้นบรรทัดใหม่\n",
    "\n",
    "**ตัวอย่างโค้ด:**\n"
   ]
  },
  {
   "cell_type": "code",
   "execution_count": null,
   "id": "beadbc5d",
   "metadata": {},
   "outputs": [],
   "source": [
    "# --- Using write() ---\n",
    "print(\"--- Using write() ---\")\n",
    "with open('output_write.txt', 'w', encoding='utf-8') as f:\n",
    "    f.write(\"This is the first line.\\n\") # Notice the \\n\n",
    "    f.write(\"And this is the second line.\\n\")\n",
    "    bytes_written = f.write(\"This is the third line.\") # Returns number of characters written\n",
    "    print(f\"Wrote {bytes_written} characters for the third line.\")"
   ]
  },
  {
   "cell_type": "code",
   "execution_count": null,
   "id": "885b1563",
   "metadata": {},
   "outputs": [],
   "source": [
    "!cat output_write.txt"
   ]
  },
  {
   "cell_type": "code",
   "execution_count": null,
   "id": "29c17652",
   "metadata": {},
   "outputs": [],
   "source": [
    "# --- Using writelines() ---\n",
    "print(\"\\n--- Using writelines() ---\")\n",
    "lines_to_add = [\n",
    "    \"Line A for writelines.\\n\",\n",
    "    \"Line B for writelines.\\n\",\n",
    "    \"Line C for writelines.\"\n",
    "]\n",
    "with open('output_writelines.txt', 'w', encoding='utf-8') as f:\n",
    "    f.writelines(lines_to_add)\n",
    "\n",
    "print(\"Check 'output_write.txt' and 'output_writelines.txt' files.\")"
   ]
  },
  {
   "cell_type": "markdown",
   "id": "666078e9",
   "metadata": {},
   "source": [
    "### **5. การปิดไฟล์ด้วย `file_object.close()`**\n",
    "\n",
    "**คำอธิบาย:**\n",
    "การปิดไฟล์ด้วยเมธอด `close()` เป็นสิ่งสำคัญมากหลังจากที่เราทำงานกับไฟล์เสร็จสิ้น เพราะ:\n",
    "*   **ปลดปล่อยทรัพยากร (Release Resources):** ระบบปฏิบัติการจะจัดสรรทรัพยากรบางส่วนให้กับไฟล์ที่เปิดอยู่ การปิดไฟล์เป็นการคืนทรัพยากรเหล่านั้น ทำให้ไฟล์ไม่ถูกล็อกและสามารถนำไปใช้โดยโปรแกรมอื่นได้\n",
    "*   **บันทึกข้อมูล (Flush Data):** เมื่อคุณเขียนข้อมูลลงไฟล์ ข้อมูลอาจไม่ได้ถูกเขียนลงฮาร์ดดิสก์ทันที แต่อาจถูกเก็บไว้ชั่วคราวใน \"buffer\" ในหน่วยความจำ การเรียก `close()` จะเป็นการ \"flush\" ข้อมูลใน buffer ลงดิสก์จริง ทำให้มั่นใจได้ว่าข้อมูลทั้งหมดถูกบันทึกอย่างสมบูรณ์\n",
    "*   **ป้องกันข้อมูลสูญหาย:** หากโปรแกรมหยุดทำงานกะทันหันโดยที่ไฟล์ยังไม่ถูกปิด ข้อมูลที่ยังอยู่ใน buffer อาจสูญหายได้\n",
    "\n",
    "**ตัวอย่างโค้ด:**\n"
   ]
  },
  {
   "cell_type": "code",
   "execution_count": null,
   "id": "d7adf071",
   "metadata": {},
   "outputs": [],
   "source": [
    "# Manual file handling, requires explicit close()\n",
    "f = open('manual_close_example.txt', 'w', encoding='utf-8')\n",
    "try:\n",
    "    f.write(\"This line is written.\\n\")\n",
    "    f.write(\"Another line.\\n\")\n",
    "    # Simulate an error (e.g., division by zero)\n",
    "    # result = 1 / 0\n",
    "except ZeroDivisionError:\n",
    "    print(\"An error occurred, but the file will still be closed.\")\n",
    "finally:\n",
    "    # The 'finally' block ensures f.close() is called\n",
    "    # even if an exception occurs in the try block.\n",
    "    f.close()\n",
    "    print(\"File 'manual_close_example.txt' has been closed.\")\n",
    "\n",
    "# Attempting to access after close will raise an error\n",
    "# try:\n",
    "#     f.write(\"This will fail.\")\n",
    "# except ValueError as e:\n",
    "#     print(f\"Error after closing: {e}\")"
   ]
  },
  {
   "cell_type": "markdown",
   "id": "7990da2b",
   "metadata": {},
   "source": [
    "### **6. การใช้ `with open(...) as f:` (Context Manager)**\n",
    "\n",
    "**คำอธิบาย:**\n",
    "นี่คือ **วิธีที่แนะนำที่สุด** ในการทำงานกับไฟล์ใน Python เหตุผลคือ:\n",
    "*   **ปิดไฟล์อัตโนมัติ:** เมื่อใช้ `with` statement, Python จะดูแลการปิดไฟล์ให้อัตโนมัติทันทีที่โค้ดในบล็อก `with` ทำงานเสร็จสิ้น ไม่ว่าจะเป็นการทำงานปกติหรือเกิดข้อผิดพลาด (exception) ขึ้นก็ตาม คุณไม่จำเป็นต้องเรียก `f.close()` ด้วยตัวเอง\n",
    "*   **ลดความซับซ้อนและข้อผิดพลาด:** ช่วยให้โค้ดสะอาดขึ้นและลดโอกาสการลืมปิดไฟล์ ซึ่งเป็นสาเหตุของปัญหา `ResourceWarning` หรือข้อมูลสูญหาย\n",
    "\n",
    "**ตัวอย่างโค้ด:**"
   ]
  },
  {
   "cell_type": "code",
   "execution_count": null,
   "id": "9b341e08",
   "metadata": {},
   "outputs": [],
   "source": [
    "# This is the recommended way to handle files\n",
    "print(\"--- Using 'with' statement (Recommended) ---\")\n",
    "try:\n",
    "    with open('auto_close_example.txt', 'w', encoding='utf-8') as f:\n",
    "        f.write(\"This line is handled by the 'with' statement.\\n\")\n",
    "        f.write(\"Python ensures the file is closed automatically.\\n\")\n",
    "        # You can even simulate an error here:\n",
    "        # result = 1 / 0\n",
    "    # File 'auto_close_example.txt' is guaranteed to be closed here,\n",
    "    # even if an error occurred inside the 'with' block.\n",
    "    print(\"File 'auto_close_example.txt' was successfully written and closed automatically.\")\n",
    "\n",
    "except ZeroDivisionError:\n",
    "    print(\"An error occurred inside the 'with' block, but the file was still closed.\")"
   ]
  },
  {
   "cell_type": "code",
   "execution_count": null,
   "id": "1d634be6",
   "metadata": {},
   "outputs": [],
   "source": [
    "# You can now safely open it again for reading\n",
    "with open('auto_close_example.txt', 'r', encoding='utf-8') as f:\n",
    "    content = f.read()\n",
    "    print(\"\\nContent of auto_close_example.txt:\")\n",
    "    print(content)"
   ]
  },
  {
   "cell_type": "code",
   "execution_count": null,
   "id": "e6252833",
   "metadata": {},
   "outputs": [],
   "source": []
  }
 ],
 "metadata": {
  "kernelspec": {
   "display_name": ".venv",
   "language": "python",
   "name": "python3"
  },
  "language_info": {
   "codemirror_mode": {
    "name": "ipython",
    "version": 3
   },
   "file_extension": ".py",
   "mimetype": "text/x-python",
   "name": "python",
   "nbconvert_exporter": "python",
   "pygments_lexer": "ipython3",
   "version": "3.12.3"
  }
 },
 "nbformat": 4,
 "nbformat_minor": 5
}
