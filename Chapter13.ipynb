{
 "cells": [
  {
   "cell_type": "code",
   "execution_count": null,
   "id": "e3bf2057",
   "metadata": {},
   "outputs": [],
   "source": []
  },
  {
   "cell_type": "markdown",
   "id": "b4692cd8",
   "metadata": {},
   "source": [
    "### **Chapter 13: Error Handling**"
   ]
  },
  {
   "cell_type": "markdown",
   "id": "70baa88d",
   "metadata": {},
   "source": [
    "1.  **Use `try-except` blocks to catch and handle anticipated errors.**\n",
    "    *   **คำอธิบาย (Thai):**\n",
    "        - บล็อก `try-except` เป็นหัวใจหลักของการจัดการข้อผิดพลาดใน Python ใช้เพื่อ \"ลอง\" รันโค้ดส่วนหนึ่ง (ในบล็อก `try`) และถ้าเกิดข้อผิดพลาดขึ้นในระหว่างนั้น Python จะไม่หยุดทำงานทันที แต่จะ \"จับ\" ข้อผิดพลาดนั้นและรันโค้ดอีกส่วนหนึ่งแทน (ในบล็อก `except`) ช่วยให้โปรแกรมของคุณมีความทนทานและไม่ล่มง่ายเมื่อเจอสถานการณ์ที่ไม่คาดคิด เช่น ผู้ใช้ป้อนข้อมูลผิดประเภท หรือไฟล์ที่ต้องการเปิดไม่มีอยู่\n",
    "    *   **Sample Code (English):**"
   ]
  },
  {
   "cell_type": "code",
   "execution_count": null,
   "id": "87b32795",
   "metadata": {},
   "outputs": [],
   "source": [
    "try:\n",
    "    num = int(input(\"Enter an integer: \"))\n",
    "    print(f\"You entered: {num}\")\n",
    "except ValueError:\n",
    "    print(\"Invalid input! Please enter a whole number.\")\n",
    "\n",
    "print(\"Program continues after error handling.\")"
   ]
  },
  {
   "cell_type": "markdown",
   "id": "d75cf186",
   "metadata": {},
   "source": [
    "2.  **Specify exception types in `except` clauses for targeted handling.**\n",
    "    *   **คำอธิบาย (Thai):**\n",
    "        คุณสามารถระบุประเภทของข้อผิดพลาดที่ต้องการจับในบล็อก `except` ได้ เช่น `ValueError`, `ZeroDivisionError`, `FileNotFoundError` การระบุประเภทจะช่วยให้คุณจัดการข้อผิดพลาดแต่ละชนิดได้อย่างเฉพาะเจาะจงมากขึ้น แทนที่จะจับข้อผิดพลาดทุกประเภทด้วย `except` เปล่าๆ ซึ่งอาจซ่อนปัญหาที่คุณไม่ได้คาดคิด นอกจากนี้ยังสามารถจับข้อผิดพลาดหลายประเภทในบล็อก `except` เดียวกันได้ หรือมีบล็อก `except` หลายบล็อกเพื่อจัดการข้อผิดพลาดที่แตกต่างกัน\n",
    "    *   **Sample Code (English):**"
   ]
  },
  {
   "cell_type": "code",
   "execution_count": null,
   "id": "9f7cd034",
   "metadata": {},
   "outputs": [],
   "source": [
    "def divide_numbers(a, b):\n",
    "    try:\n",
    "        result = a / b\n",
    "        print(f\"Result of division: {result}\")\n",
    "    except ZeroDivisionError:\n",
    "        print(\"Error: Cannot divide by zero!\")\n",
    "    except TypeError:\n",
    "        print(\"Error: Invalid types for division. Please use numbers.\")\n",
    "    except Exception as e: # Catch any other unexpected error\n",
    "        print(f\"An unexpected error occurred: {e}\")\n",
    "\n",
    "divide_numbers(10, 2)\n",
    "# divide_numbers(10, 0)\n",
    "# divide_numbers(10, \"two\")\n"
   ]
  },
  {
   "cell_type": "markdown",
   "id": "15123380",
   "metadata": {},
   "source": [
    "3.  **Utilize the `finally` clause to ensure cleanup code always runs.**\n",
    "    *   **คำอธิบาย (Thai):**\n",
    "        บล็อก `finally` เป็นส่วนเสริมของ `try-except` ที่โค้ดภายในบล็อกนี้จะถูกรัน *เสมอ* ไม่ว่าในบล็อก `try` จะเกิดข้อผิดพลาดขึ้นหรือไม่ หรือเกิดข้อผิดพลาดแล้วถูกจับหรือไม่ก็ตาม `finally` มีประโยชน์อย่างยิ่งสำหรับการจัดการทรัพยากร เช่น การปิดไฟล์ การปลดล็อกทรัพยากร หรือการปิดการเชื่อมต่อฐานข้อมูล เพื่อให้มั่นใจว่าทรัพยากรเหล่านั้นจะถูกปล่อยคืนอย่างถูกต้องและไม่เกิดการรั่วไหลของหน่วยความจำหรือการค้างของทรัพยากร\n",
    "    *   **Sample Code (English):**"
   ]
  },
  {
   "cell_type": "code",
   "execution_count": null,
   "id": "5c0fd49f",
   "metadata": {},
   "outputs": [],
   "source": [
    "file = None\n",
    "try:\n",
    "    file = open(\"my_data.txt\", \"r\")\n",
    "    content = file.read()\n",
    "    print(f\"File content: {content}\")\n",
    "    # Simulate another error\n",
    "    # x = 1 / 0\n",
    "except FileNotFoundError:\n",
    "    print(\"Error: The file does not exist.\")\n",
    "except Exception as e:\n",
    "    print(f\"An unexpected error occurred: {e}\")\n",
    "finally:\n",
    "    if file: # Check if file was successfully opened\n",
    "        file.close()\n",
    "        print(\"File has been closed.\")\n",
    "\n",
    "# Create a dummy file for the example to work if not present\n",
    "with open(\"my_data.txt\", \"w\") as f:\n",
    "    f.write(\"Hello from Python!\\n\")"
   ]
  },
  {
   "cell_type": "code",
   "execution_count": null,
   "id": "05faceff",
   "metadata": {},
   "outputs": [],
   "source": [
    "# Test case: file exists\n",
    "print(\"\\n--- Testing with existing file ---\")\n",
    "file = None # Reset for clarity\n",
    "try:\n",
    "    file = open(\"my_data.txt\", \"r\")\n",
    "    content = file.read()\n",
    "    print(f\"File content: {content}\")\n",
    "finally:\n",
    "    if file:\n",
    "        file.close()\n",
    "        print(\"File has been closed (existing file test).\")\n",
    "\n",
    "# Test case: file does not exist\n",
    "print(\"\\n--- Testing with non-existing file ---\")\n",
    "file = None # Reset for clarity\n",
    "try:\n",
    "    file = open(\"non_existent_file.txt\", \"r\")\n",
    "    content = file.read()\n",
    "    print(f\"File content: {content}\")\n",
    "except FileNotFoundError:\n",
    "    print(\"Caught FileNotFoundError (non-existent file test).\")\n",
    "finally:\n",
    "    if file:\n",
    "        file.close()\n",
    "        print(\"File has been closed (non-existent file test).\") # This won't print \"closed\" as file was never opened successfully"
   ]
  },
  {
   "cell_type": "markdown",
   "id": "a1d59c8c",
   "metadata": {},
   "source": [
    "4.  **Employ the `else` clause for code that executes only if no exception occurs in `try`.**\n",
    "    *   **คำอธิบาย (Thai):**\n",
    "        บล็อก `else` เป็นอีกหนึ่งส่วนเสริมของ `try-except` โดยโค้ดภายในบล็อก `else` จะถูกรันก็ต่อเมื่อโค้ดในบล็อก `try` ทำงานได้สำเร็จ *โดยไม่มีข้อผิดพลาดใดๆ เกิดขึ้น* การใช้ `else` ช่วยให้โค้ดของคุณเป็นระเบียบมากขึ้น โดยแยกการดำเนินการที่สำเร็จจากการจัดการข้อผิดพลาดได้อย่างชัดเจน โค้ดที่อยู่ใน `else` มักจะเป็นโค้ดที่ต้องทำหลังจากที่ `try` สำเร็จอย่างสมบูรณ์\n",
    "    *   **Sample Code (English):**"
   ]
  },
  {
   "cell_type": "code",
   "execution_count": null,
   "id": "c5fe8240",
   "metadata": {},
   "outputs": [],
   "source": [
    "def safe_division(numerator, denominator):\n",
    "    try:\n",
    "        result = numerator / denominator\n",
    "    except ZeroDivisionError:\n",
    "        print(\"Error: Denominator cannot be zero.\")\n",
    "    except TypeError:\n",
    "        print(\"Error: Both inputs must be numbers.\")\n",
    "    else: # This block runs only if no exception occurred in try\n",
    "        print(f\"Division successful! Result: {result}\")\n",
    "    finally:\n",
    "        print(\"--- Division attempt concluded ---\\n\")\n",
    "\n",
    "safe_division(10, 2)\n",
    "safe_division(10, 0)\n",
    "safe_division(\"abc\", 5)"
   ]
  },
  {
   "cell_type": "markdown",
   "id": "34c4543f",
   "metadata": {},
   "source": [
    "5.  **Use the `raise` statement to manually trigger exceptions or re-raise caught ones.**\n",
    "    *   **คำอธิบาย (Thai):**\n",
    "        คำสั่ง `raise` ใช้เพื่อ \"โยน\" หรือสร้างข้อผิดพลาดขึ้นมาเอง คุณสามารถใช้ `raise` เพื่อบังคับให้เกิดข้อผิดพลาดขึ้นเมื่อเงื่อนไขบางอย่างไม่เป็นไปตามที่คุณต้องการ (เช่น ผู้ใช้ป้อนข้อมูลที่ไม่ถูกต้องตามเงื่อนไขทางธุรกิจ) หรือเมื่อพบข้อผิดพลาดที่ร้ายแรงมากที่โค้ดของคุณไม่สามารถจัดการต่อได้ \n",
    "    *   **Sample Code (English):**"
   ]
  },
  {
   "cell_type": "code",
   "execution_count": null,
   "id": "d9e45aff",
   "metadata": {},
   "outputs": [],
   "source": [
    "# Example 1: Raising a custom error for invalid input\n",
    "def check_age(age):\n",
    "    if not isinstance(age, int) or age < 0:\n",
    "        raise ValueError(\"Age must be a non-negative integer.\")\n",
    "    if age < 18:\n",
    "        print(\"User is a minor.\")\n",
    "    else:\n",
    "        print(\"User is an adult.\")\n",
    "\n",
    "try:\n",
    "    check_age(25)\n",
    "    check_age(-5) # This will raise a ValueError\n",
    "except ValueError as e:\n",
    "    print(f\"Caught error: {e}\")"
   ]
  },
  {
   "cell_type": "markdown",
   "id": "8a9be76e",
   "metadata": {},
   "source": [
    "6.  **Define custom exception classes to represent specific application errors.**\n",
    "    *   **คำอธิบาย (Thai):**\n",
    "        ในแอปพลิเคชันที่มีขนาดใหญ่ การใช้ข้อผิดพลาดมาตรฐานของ Python อาจไม่เพียงพอหรือไม่สื่อความหมายเท่าที่ควร คุณสามารถสร้างคลาสข้อผิดพลาดของคุณเองได้โดยการสืบทอด (inherit) มาจากคลาส `Exception` หรือคลาสข้อผิดพลาดมาตรฐานที่เฉพาะเจาะจงกว่า เช่น `ValueError` การสร้าง Custom Exception ช่วยให้โค้ดของคุณชัดเจนและเข้าใจง่ายขึ้น และทำให้สามารถจัดการข้อผิดพลาดที่เฉพาะเจาะจงกับตรรกะทางธุรกิจของคุณได้ง่ายขึ้น\n",
    "    *   **Sample Code (English):**"
   ]
  },
  {
   "cell_type": "code",
   "execution_count": null,
   "id": "29f2400f",
   "metadata": {},
   "outputs": [],
   "source": [
    "# Define a custom exception\n",
    "class InsufficientFundsError(Exception):\n",
    "    \"\"\"Exception raised for errors in the amount of funds available.\"\"\"\n",
    "    def __init__(self, message=\"Insufficient funds for this transaction.\", available=0, requested=0):\n",
    "        self.message = message\n",
    "        self.available = available\n",
    "        self.requested = requested\n",
    "        super().__init__(self.message)\n",
    "\n",
    "class BankAccount:\n",
    "    def __init__(self, balance):\n",
    "        self.balance = balance\n",
    "\n",
    "    def withdraw(self, amount):\n",
    "        if amount <= 0:\n",
    "            raise ValueError(\"Withdrawal amount must be positive.\")\n",
    "        if amount > self.balance:\n",
    "            raise InsufficientFundsError(\n",
    "                f\"Cannot withdraw {amount}. Available balance: {self.balance}\",\n",
    "                available=self.balance,\n",
    "                requested=amount\n",
    "            )\n",
    "        self.balance -= amount\n",
    "        print(f\"Withdrew {amount}. New balance: {self.balance}\")\n",
    "\n",
    "account = BankAccount(100)\n",
    "\n",
    "try:\n",
    "    account.withdraw(50)\n",
    "    account.withdraw(70) # This will raise InsufficientFundsError\n",
    "except InsufficientFundsError as e:\n",
    "    print(f\"Caught custom error: {e.message}\")\n",
    "    print(f\"Details: Available: {e.available}, Requested: {e.requested}\")\n",
    "except ValueError as e:\n",
    "    print(f\"Caught standard error: {e}\")"
   ]
  },
  {
   "cell_type": "markdown",
   "id": "e8bf98dc",
   "metadata": {},
   "source": [
    "7.  **Leverage context managers with the 'with' statement for robust resource handling.**\n",
    "    *   **คำอธิบาย (Thai):**\n",
    "        Context Manager (ตัวจัดการบริบท) เป็นเครื่องมือที่ใช้ `with` statement เพื่อจัดการทรัพยากรได้อย่างปลอดภัยและมีประสิทธิภาพ เช่น ไฟล์, การเชื่อมต่อเครือข่าย, หรือล็อก (lock) โดยไม่จำเป็นต้องเขียนบล็อก `try-finally` เพื่อปิดทรัพยากรเหล่านั้นด้วยตัวเอง เมื่อใช้ `with` statement Python จะรับประกันว่าทรัพยากรจะถูกเปิดใช้งานอย่างถูกต้อง (`__enter__` method) และถูกปิดอย่างเหมาะสม (`__exit__` method) ไม่ว่าโค้ดภายในบล็อก `with` จะทำงานได้สำเร็จหรือไม่ หรือเกิดข้อผิดพลาดขึ้นก็ตาม ซึ่งช่วยลดโอกาสเกิดการรั่วไหลของทรัพยากรและทำให้โค้ดอ่านง่ายขึ้น\n",
    "    *   **Sample Code (English):**"
   ]
  },
  {
   "cell_type": "code",
   "execution_count": null,
   "id": "4ea3db88",
   "metadata": {},
   "outputs": [],
   "source": [
    "# Example 1: Using 'with' for file handling (most common use)\n",
    "try:\n",
    "    with open(\"example.txt\", \"w\") as f:\n",
    "        f.write(\"This is a test line.\\n\")\n",
    "        f.write(\"Another line.\")\n",
    "        # Simulate an error within the block\n",
    "        # x = 1 / 0\n",
    "    print(\"File writing completed.\")\n",
    "except IOError as e:\n",
    "    print(f\"Error writing to file: {e}\")\n",
    "except Exception as e:\n",
    "    print(f\"An unexpected error occurred: {e}\")\n"
   ]
  },
  {
   "cell_type": "code",
   "execution_count": null,
   "id": "c003f1e6",
   "metadata": {},
   "outputs": [],
   "source": [
    "# After the 'with' block, the file is automatically closed,\n",
    "# even if an error occurred inside.\n",
    "print(\"File is guaranteed to be closed.\")\n",
    "\n",
    "try:\n",
    "    with open(\"example.txt\", \"r\") as f:\n",
    "        content = f.read()\n",
    "        print(f\"Content read from file:\\n{content}\")\n",
    "except FileNotFoundError:\n",
    "    print(\"File not found.\")"
   ]
  },
  {
   "cell_type": "code",
   "execution_count": null,
   "id": "d2f3184d",
   "metadata": {},
   "outputs": [],
   "source": [
    "# Example 2: A simple custom context manager (for demonstration)\n",
    "class MyContextManager:\n",
    "    def __enter__(self):\n",
    "        print(\"Entering the context.\")\n",
    "        return self # Can return an object to be bound to 'as var'\n",
    "\n",
    "    def __exit__(self, exc_type, exc_val, exc_tb):\n",
    "        print(\"Exiting the context.\")\n",
    "        if exc_type:\n",
    "            print(f\"An exception occurred: {exc_type.__name__}, {exc_val}\")\n",
    "        return False # If True, suppresses the exception\n",
    "\n",
    "print(\"\\n--- Using custom context manager ---\")\n",
    "try:\n",
    "    with MyContextManager() as mc:\n",
    "        print(\"Inside the context.\")\n",
    "        # Simulate an error\n",
    "        # raise ValueError(\"Something went wrong!\")\n",
    "    print(\"Outside the context (no error).\")\n",
    "except ValueError as e:\n",
    "    print(f\"Caught exception outside context: {e}\")"
   ]
  }
 ],
 "metadata": {
  "kernelspec": {
   "display_name": ".venv",
   "language": "python",
   "name": "python3"
  },
  "language_info": {
   "codemirror_mode": {
    "name": "ipython",
    "version": 3
   },
   "file_extension": ".py",
   "mimetype": "text/x-python",
   "name": "python",
   "nbconvert_exporter": "python",
   "pygments_lexer": "ipython3",
   "version": "3.12.3"
  }
 },
 "nbformat": 4,
 "nbformat_minor": 5
}
