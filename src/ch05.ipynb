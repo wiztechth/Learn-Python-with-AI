{
 "cells": [
  {
   "cell_type": "code",
   "execution_count": 46,
   "id": "6a29d930",
   "metadata": {},
   "outputs": [
    {
     "name": "stdout",
     "output_type": "stream",
     "text": [
      "Total price of pizza and burger: $ 14.98\n",
      "Total price after 10% discount: $ 13.482\n",
      "Change from $20: $ 6.52\n",
      "Remainder of 10 divided by 3: 1\n"
     ]
    }
   ],
   "source": [
    "# Restaurant Management System\n",
    "\n",
    "# Arithmetic operations\n",
    "price_pizza = 8.99\n",
    "price_burger = 5.99\n",
    "total = price_pizza + price_burger\n",
    "print(\"Total price of pizza and burger: $\", total)\n",
    "\n",
    "# calcualte discount 10%\n",
    "discount = total * 0.10\n",
    "new_total = total - discount\n",
    "print(\"Total price after 10% discount: $\", new_total)\n",
    "\n",
    "# calculate change from $20\n",
    "payment = 20.00\n",
    "change = payment - new_total\n",
    "print(f\"Change from $20: $ {change:.2f}\")\n",
    "\n",
    "# modulo operation\n",
    "remainder = 10 % 3\n",
    "print(\"Remainder of 10 divided by 3:\", remainder)"
   ]
  },
  {
   "cell_type": "code",
   "execution_count": 48,
   "id": "16e6d6c2",
   "metadata": {},
   "outputs": [
    {
     "name": "stdout",
     "output_type": "stream",
     "text": [
      "You are eligible for a discount.\n"
     ]
    }
   ],
   "source": [
    "# Comparison operations\n",
    "price = 600\n",
    "miminum_spend = 500\n",
    "\n",
    "if price >= miminum_spend:\n",
    "    print(\"You are eligible for a discount.\")\n",
    "else:\n",
    "    print(\"You are NOT eligible for a discount.\")\n",
    "\n"
   ]
  },
  {
   "cell_type": "code",
   "execution_count": 51,
   "id": "72609e3b",
   "metadata": {},
   "outputs": [
    {
     "name": "stdout",
     "output_type": "stream",
     "text": [
      "You are NOT eligible for a special discount.\n"
     ]
    }
   ],
   "source": [
    "# Logical Operations\n",
    "is_member = True\n",
    "total_spend = 450\n",
    "minimum_spend = 500\n",
    "\n",
    "if is_member and total_spend >= minimum_spend:\n",
    "    print(\"You are eligible for a special discount.\")\n",
    "else:\n",
    "    print(\"You are NOT eligible for a special discount.\")\n"
   ]
  },
  {
   "cell_type": "code",
   "execution_count": 52,
   "id": "4eebb5ee",
   "metadata": {},
   "outputs": [
    {
     "name": "stdout",
     "output_type": "stream",
     "text": [
      "Final sales: 65.0\n"
     ]
    }
   ],
   "source": [
    "# assignment operations\n",
    "sales = 100\n",
    "sales += 50  # sales = sales + 50\n",
    "sales -= 20  # sales = sales - 20\n",
    "sales *= 2   # sales = sales * 2\n",
    "sales /= 4   # sales = sales / 4\n",
    "print(\"Final sales:\", sales)"
   ]
  },
  {
   "cell_type": "code",
   "execution_count": 53,
   "id": "02cb1fbb",
   "metadata": {},
   "outputs": [
    {
     "name": "stdout",
     "output_type": "stream",
     "text": [
      "Both chefs work on the same day: 0b1000000\n"
     ]
    }
   ],
   "source": [
    "# Bitwise operations\n",
    "\n",
    "# Assign shifts for chef01 and chef02\n",
    "# chef01 work on Monday, Wednesday, Friday\n",
    "chef01_shifts = 0b1010100\n",
    "\n",
    "# chef02 work on Monday, Tuesday, Thursday, and Saturday\n",
    "chef02_shifts = 0b1101010 \n",
    "\n",
    "# Check if both chefs work on the same day\n",
    "same_day = chef01_shifts & chef02_shifts    \n",
    "if same_day:\n",
    "    print(\"Both chefs work on the same day:\", bin(same_day))\n",
    "else:\n",
    "    print(\"No common workday between chefs.\")\n",
    "  "
   ]
  },
  {
   "cell_type": "code",
   "execution_count": 55,
   "id": "0e52ea45",
   "metadata": {},
   "outputs": [
    {
     "name": "stdout",
     "output_type": "stream",
     "text": [
      "วันที่มี Chef ทำงาน: 0b1111110\n",
      "No chef works on Sunday.\n"
     ]
    }
   ],
   "source": [
    "# ตรวจสอบว่ามี chef มาทำงานในวันที่ระบุหรือไม่ (e.g., Saturdayu)\n",
    "either_chef = chef01_shifts | chef02_shifts\n",
    "print(\"วันที่มี Chef ทำงาน:\", bin(either_chef))\n",
    "\n",
    "if either_chef & 0b0000001: # มี chef มาทำงานในวันเสาร์หรือไม่\n",
    "    print(\"At least one chef works on Saturday:\")\n",
    "else:\n",
    "    print(\"No chef works on Sunday.\") "
   ]
  },
  {
   "cell_type": "code",
   "execution_count": 57,
   "id": "56abb88f",
   "metadata": {},
   "outputs": [
    {
     "name": "stdout",
     "output_type": "stream",
     "text": [
      "Amount: 14.666666666666666\n",
      "Amount: 14.666666666666666\n"
     ]
    }
   ],
   "source": [
    "amount = 3 + 5 * 7 / 3 \n",
    "print(\"Amount:\", amount)\n",
    "\n",
    "amount = 3 + (5 * 7) / 3\n",
    "print(\"Amount:\", amount)"
   ]
  },
  {
   "cell_type": "code",
   "execution_count": null,
   "id": "444332fe",
   "metadata": {},
   "outputs": [],
   "source": [
    "# Order of operations\n",
    "# 1. Parentheses\n",
    "# 2. Exponents\n",
    "amount = 5 * (2 + 3) - 4 ** 2 / 2\n",
    "print(\"Amount:\", amount)\n",
    "\n",
    "\n",
    "# 3. Multiplication and Division (left to right)\n",
    "# 4. Addition and Subtraction (left to right)\n",
    "# 5. Bitwise operations (if any)\n",
    "# 6. Logical operations (if any)\n",
    "# 7. Comparison operations (if any)\n",
    "# 8. Assignment operations (if any)\n",
    "# 9. Arithmetic operations (if any)\n"
   ]
  }
 ],
 "metadata": {
  "kernelspec": {
   "display_name": "Python 3",
   "language": "python",
   "name": "python3"
  },
  "language_info": {
   "codemirror_mode": {
    "name": "ipython",
    "version": 3
   },
   "file_extension": ".py",
   "mimetype": "text/x-python",
   "name": "python",
   "nbconvert_exporter": "python",
   "pygments_lexer": "ipython3",
   "version": "3.13.3"
  }
 },
 "nbformat": 4,
 "nbformat_minor": 5
}
