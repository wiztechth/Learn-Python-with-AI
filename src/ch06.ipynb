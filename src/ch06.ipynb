{
 "cells": [
  {
   "cell_type": "code",
   "execution_count": 1,
   "id": "391a3049",
   "metadata": {},
   "outputs": [
    {
     "name": "stdout",
     "output_type": "stream",
     "text": [
      "ยอดบิล: 1250 บาท\n",
      "ส่วนลด: 125.0 บาท\n",
      "ยอดที่ต้องชำระ: 1125.0 บาท\n"
     ]
    }
   ],
   "source": [
    "# Restaurant Management System\n",
    "\n",
    "# Conditonal Statements: If, Else, Elif\n",
    "# ตัวอย่างที่ 1: if Statement - ตรวจสอบส่วนลดตามยอดบิล\n",
    "bill_total = 1250    # ยอดบิล\n",
    "discount_threshold = 1000   # ยอดบิลที่มีสิทธิ์ได้รับส่วนลด\n",
    "discount_percentage = 0.1 # เปอร์เซ็นต์ส่วนลด\n",
    "\n",
    "if bill_total >= discount_threshold:\n",
    "    discount_amount = bill_total * discount_percentage\n",
    "    final_amount = bill_total - discount_amount\n",
    "    print(f\"ยอดบิล: {bill_total} บาท\")\n",
    "    print(f\"ส่วนลด: {discount_amount} บาท\")\n",
    "    print(f\"ยอดที่ต้องชำระ: {final_amount} บาท\")\n",
    "\n",
    "\n"
   ]
  },
  {
   "cell_type": "code",
   "execution_count": 3,
   "id": "8d26bf30",
   "metadata": {},
   "outputs": [
    {
     "name": "stdout",
     "output_type": "stream",
     "text": [
      "โต๊ะเต็ม กรุณารอคิว\n"
     ]
    }
   ],
   "source": [
    "# ตัวอย่างที่ 2: if-else Statement - ตรวจสอบสถานะโต๊ะ\n",
    "table_available = False # สมมติว่าโต๊ะว่าง\n",
    "\n",
    "if table_available:\n",
    "    print(\"โต๊ะว่าง เชิญนั่่งทางนี้ \")\n",
    "else:\n",
    "    print(\"โต๊ะเต็ม กรุณารอคิว\")\n"
   ]
  },
  {
   "cell_type": "markdown",
   "id": "c10dc6e7",
   "metadata": {},
   "source": [
    "### Service Charge\n",
    "- ลูกค้า >= 8 คน คิด 10%\n",
    "- ลูกค้ามากว่า 5-8 คน คิด 5%\n",
    "- ลูกค้า <= 4 คน คิด ไม่คิด"
   ]
  },
  {
   "cell_type": "code",
   "execution_count": 15,
   "id": "3b9339ac",
   "metadata": {},
   "outputs": [
    {
     "name": "stdout",
     "output_type": "stream",
     "text": [
      "Service Charge: 10%\n"
     ]
    }
   ],
   "source": [
    "# ตัวอย่างที่ 3: if-elif-else Ladder - คำนวณ Service Charge ตามจำนวนคน\n",
    "number_of_guests = 8 # สมมติจำนวนแขก\n",
    "service_charge_rate = 10\n",
    "\n",
    "if number_of_guests >= 8:\n",
    "    print(f\"Service Charge: {service_charge_rate}%\")\n",
    "elif number_of_guests >= 5:\n",
    "    print(\"Service Charge: 5%\")\n",
    "else:\n",
    "    print(\"Service Charge: 0%\")"
   ]
  },
  {
   "cell_type": "markdown",
   "id": "d319e3ec",
   "metadata": {},
   "source": [
    "กฎของร้าน\n",
    "- ลูกค้าสั่ง alcohol ต้องมีอายุมากกว่า 20\n",
    "- ลูกค้าสั่ง non-alcohol -> ร้านพร้อมเสริฟ\n",
    "- ยังไม่ได้สั่ง -> เชิญชวนลูกค้าสั่ง"
   ]
  },
  {
   "cell_type": "code",
   "execution_count": 20,
   "id": "db52ce77",
   "metadata": {},
   "outputs": [
    {
     "name": "stdout",
     "output_type": "stream",
     "text": [
      "ไม่สั่งเครื่องดื่ม ต้องรับอะไรดีครับ\n"
     ]
    }
   ],
   "source": [
    "# ตัวอย่างที่ 4: Nested Conditional Statements - ตรวจสอบสิทธิ์สั่งเครื่องดื่มแอลกอฮอล์\n",
    "customer_age = 19 # อายุของลูกค้า\n",
    "ordered_drink_type = \"none\" # หรือ \"non-alcoholic\", \"none\"\n",
    "\n",
    "if ordered_drink_type == \"alcoholic\":\n",
    "    if customer_age >= 20:\n",
    "        print(\"สามารถสั่งเครื่องดื่มแอลกอฮอล์ได้\")\n",
    "    else:\n",
    "        print(\"ไม่สามารถสั่งเครื่องดื่มแอลกอฮอล์ได้\")\n",
    "elif ordered_drink_type == \"non-alcoholic\":\n",
    "    print(\"สามารถสั่งเครื่องดื่มได้\")\n",
    "else:\n",
    "    print(\"ไม่สั่งเครื่องดื่ม ต้องรับอะไรดีครับ\")"
   ]
  },
  {
   "cell_type": "code",
   "execution_count": 25,
   "id": "b6fe23e3",
   "metadata": {},
   "outputs": [
    {
     "name": "stdout",
     "output_type": "stream",
     "text": [
      "สั่ง Tom Yum มีส่วนผสมของกุ้ง ต้องการแบบไม่ใส่กุ้งหรือไม่\n"
     ]
    }
   ],
   "source": [
    "# Order Handling with Dietary Restrictions\n",
    "menu_item = input(\"กรุณาเลือกเมนูอาหาร (Pad Krapow, Tom Yum): \") \n",
    "dietary_restrictions = \"no_shirmp\"\n",
    "\n",
    "if menu_item == \"Pad Krapow\":\n",
    "    if dietary_restrictions == \"no_pork\":\n",
    "        print(\"สั่ง Pad Krapow มีส่่วนผสมของเนื้อหมู กรุณาเลือกเมนูอื่น\")\n",
    "    else:\n",
    "        print(\"โปรดรอสักครู่ Pad Krapow กำลังทำการปรุง\")\n",
    "elif menu_item == \"Tom Yum\":\n",
    "    if dietary_restrictions == \"no_shirmp\":\n",
    "        print(\"สั่ง Tom Yum มีส่วนผสมของกุ้ง ต้องการแบบไม่ใส่กุ้งหรือไม่\")\n",
    "    else:   \n",
    "        print(\"โปรดรอสักครู่ Tom Yum กำลังทำการปรุง\")\n",
    "else:\n",
    "    print(\"เมนูที่เลือกไม่มีในระบบ กรุณาเลือกใหม่\")\n",
    "\n",
    "\n",
    "\n"
   ]
  },
  {
   "cell_type": "code",
   "execution_count": null,
   "id": "beb96d38",
   "metadata": {},
   "outputs": [],
   "source": [
    "print(dietary_restriction)"
   ]
  }
 ],
 "metadata": {
  "kernelspec": {
   "display_name": "Python 3",
   "language": "python",
   "name": "python3"
  },
  "language_info": {
   "codemirror_mode": {
    "name": "ipython",
    "version": 3
   },
   "file_extension": ".py",
   "mimetype": "text/x-python",
   "name": "python",
   "nbconvert_exporter": "python",
   "pygments_lexer": "ipython3",
   "version": "3.13.3"
  }
 },
 "nbformat": 4,
 "nbformat_minor": 5
}
