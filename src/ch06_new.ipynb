{
 "cells": [
  {
   "cell_type": "code",
   "execution_count": 9,
   "id": "c70cde41",
   "metadata": {},
   "outputs": [
    {
     "name": "stdout",
     "output_type": "stream",
     "text": [
      "Table is available. You can seat the customer.\n"
     ]
    }
   ],
   "source": [
    "# Assume we have a variable representing table status\n",
    "table_status = \"free\" # Could be \"free\", \"occupied\", \"reserved\"\n",
    "\n",
    "# Check if the table is free\n",
    "if table_status == \"free\":\n",
    "    print(\"Table is available. You can seat the customer.\")"
   ]
  },
  {
   "cell_type": "code",
   "execution_count": 11,
   "id": "e240132c",
   "metadata": {},
   "outputs": [
    {
     "name": "stdout",
     "output_type": "stream",
     "text": [
      "Customer is not a member. No discount applied.\n",
      "Final bill: 1500 Baht\n"
     ]
    }
   ],
   "source": [
    "# Assume variables for total bill and member status\n",
    "bill_total = 1500\n",
    "is_member = False # True if the customer is a member, False otherwise\n",
    "\n",
    "# Check if the customer is a member to apply a discount\n",
    "if is_member:\n",
    "    discount_rate = 0.10 # 10% discount\n",
    "    discount_amount = bill_total * discount_rate\n",
    "    final_bill = bill_total - discount_amount\n",
    "    print(f\"Customer is a member. Applied {discount_rate*100}% discount.\")\n",
    "    print(f\"Final bill: {final_bill} Baht\")\n",
    "else:\n",
    "    print(\"Customer is not a member. No discount applied.\")\n",
    "    print(f\"Final bill: {bill_total} Baht\")"
   ]
  },
  {
   "cell_type": "code",
   "execution_count": null,
   "id": "7a1433f7",
   "metadata": {},
   "outputs": [
    {
     "name": "stdout",
     "output_type": "stream",
     "text": [
      "Bill total >= 2000. Applied 10% discount.\n",
      "Original bill: 3500 Baht\n",
      "Discount applied: 350.0 Baht\n",
      "Final bill: 3150.0 Baht\n"
     ]
    },
    {
     "ename": "",
     "evalue": "",
     "output_type": "error",
     "traceback": [
      "\u001b[1;31mThe Kernel crashed while executing code in the current cell or a previous cell. \n",
      "\u001b[1;31mPlease review the code in the cell(s) to identify a possible cause of the failure. \n",
      "\u001b[1;31mClick <a href='https://aka.ms/vscodeJupyterKernelCrash'>here</a> for more info. \n",
      "\u001b[1;31mView Jupyter <a href='command:jupyter.viewOutput'>log</a> for further details."
     ]
    }
   ],
   "source": [
    "# Assume a variable for the total bill amount\n",
    "bill_total = 3500\n",
    "\n",
    "# Determine discount tier based on bill total\n",
    "if bill_total >= 5000:\n",
    "    discount_percentage = 20\n",
    "    print(\"Bill total >= 5000. Applied 20% discount.\")\n",
    "elif bill_total >= 2000:\n",
    "    discount_percentage = 10\n",
    "    print(\"Bill total >= 2000. Applied 10% discount.\")\n",
    "elif bill_total >= 1000:\n",
    "    discount_percentage = 5\n",
    "    print(\"Bill total >= 1000. Applied 5% discount.\")\n",
    "else:\n",
    "    discount_percentage = 0\n",
    "    print(\"Bill total < 1000. No discount applied.\")\n",
    "\n",
    "discount_amount = bill_total * (discount_percentage / 100)\n",
    "final_bill = bill_total - discount_amount\n",
    "print(f\"Original bill: {bill_total} Baht\")\n",
    "print(f\"Discount applied: {discount_amount} Baht\")\n",
    "print(f\"Final bill: {final_bill} Baht\")"
   ]
  },
  {
   "cell_type": "code",
   "execution_count": 5,
   "id": "80e4cd98",
   "metadata": {},
   "outputs": [
    {
     "name": "stdout",
     "output_type": "stream",
     "text": [
      "Table is ocupied. Cannot seat customer.\n"
     ]
    }
   ],
   "source": [
    "# Assume variables for table status and customer count\n",
    "table_status = \"ocupied\" # Could be \"free\", \"occupied\", \"reserved\"\n",
    "table_size = 4 # Number of seats at the table\n",
    "customer_count = 5\n",
    "\n",
    "# Check if table is free, THEN check if size is appropriate\n",
    "if table_status == \"free\":\n",
    "    print(f\"Table (size {table_size}) is available.\")\n",
    "    # Nested condition: Check if the table size is suitable for the customer count\n",
    "    if customer_count <= table_size:\n",
    "        print(f\"Table size {table_size} is suitable for {customer_count} customers.\")\n",
    "        print(\"Proceed to seat the customer.\")\n",
    "    else:\n",
    "        print(f\"Table size {table_size} is too small for {customer_count} customers.\")\n",
    "        print(\"Look for another table.\")\n",
    "else:\n",
    "    print(f\"Table is {table_status}. Cannot seat customer.\")"
   ]
  },
  {
   "cell_type": "code",
   "execution_count": 8,
   "id": "0c981b6c",
   "metadata": {},
   "outputs": [
    {
     "name": "stdout",
     "output_type": "stream",
     "text": [
      "Happy Hour is active! Drinks are 50% off.\n"
     ]
    }
   ],
   "source": [
    "# Excercise\n",
    "# กำหนดตัวแปร `current_hour` เป็นค่าชั่วโมงปัจจุบัน (เช่น 18 สำหรับ 6 โมงเย็น)\n",
    "# ถ้า `current_hour` อยู่ระหว่าง 17 ถึง 19 (คือ 17, 18, หรือ 19) ให้พิมพ์ข้อความว่า \"Happy Hour is active! Drinks are 50% off.\" \n",
    "current_hour = 17\n",
    "\n",
    "if 17 <= current_hour <= 19:\n",
    "    print(\"Happy Hour is active! Drinks are 50% off.\")\n",
    "else:\n",
    "    print(\"Happy Hour is not active. Regular prices apply.\")\n"
   ]
  }
 ],
 "metadata": {
  "kernelspec": {
   "display_name": "Python 3",
   "language": "python",
   "name": "python3"
  },
  "language_info": {
   "codemirror_mode": {
    "name": "ipython",
    "version": 3
   },
   "file_extension": ".py",
   "mimetype": "text/x-python",
   "name": "python",
   "nbconvert_exporter": "python",
   "pygments_lexer": "ipython3",
   "version": "3.13.3"
  }
 },
 "nbformat": 4,
 "nbformat_minor": 5
}
