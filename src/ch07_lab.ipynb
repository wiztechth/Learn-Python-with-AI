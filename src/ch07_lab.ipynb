{
 "cells": [
  {
   "cell_type": "code",
   "execution_count": 1,
   "id": "19c8a480",
   "metadata": {},
   "outputs": [
    {
     "name": "stdout",
     "output_type": "stream",
     "text": [
      "Available products: ['Laptop', 'Smartphone', 'Tablet', 'Smartwatch']\n"
     ]
    }
   ],
   "source": [
    "# E-Commerce Platform\n",
    "# 1. Introduction to Lists\n",
    "products = [\"Laptop\", \"Smartphone\", \"Tablet\", \"Smartwatch\"]\n",
    "print(\"Available products:\", products)"
   ]
  },
  {
   "cell_type": "code",
   "execution_count": null,
   "id": "1213de0a",
   "metadata": {},
   "outputs": [],
   "source": [
    "# ตัวอย่าง: ตะกร้าสินค้าของลูกค้า (เริ่มต้นว่างเปล่า)\n",
    "customer_cart = []\n",
    "\n",
    "# สามารถมีข้อมูลหลายประเภทได้ (แต่ใน E-commerce มักจะเก็บข้อมูลประเภทเดียวกัน)\n",
    "mixed_list = "
   ]
  },
  {
   "cell_type": "code",
   "execution_count": null,
   "id": "4aa664c1",
   "metadata": {},
   "outputs": [],
   "source": [
    "# 2. List Indexing and Slicing (การเข้าถึงข้อมูลด้วย Index และ Slicing)\n",
    "print(\"\\n--- Indexing and Slicing ---\")"
   ]
  },
  {
   "cell_type": "code",
   "execution_count": null,
   "id": "22a643bf",
   "metadata": {},
   "outputs": [],
   "source": [
    "# Slicing: เอา 3 ชิ้นแรก"
   ]
  },
  {
   "cell_type": "code",
   "execution_count": null,
   "id": "b9371d30",
   "metadata": {},
   "outputs": [],
   "source": [
    "# Slicing: เอาตั้งแต่ชิ้นที่ 2 เป็นต้นไป"
   ]
  },
  {
   "cell_type": "code",
   "execution_count": null,
   "id": "60d73f1f",
   "metadata": {},
   "outputs": [],
   "source": [
    "# Slicing: เอาทุกชิ้นแบบข้ามไปทีละ 2"
   ]
  },
  {
   "cell_type": "code",
   "execution_count": null,
   "id": "9b95dac4",
   "metadata": {},
   "outputs": [],
   "source": [
    "# 3. List Methods (เมธอดของ List)"
   ]
  },
  {
   "cell_type": "code",
   "execution_count": null,
   "id": "cb9f2329",
   "metadata": {},
   "outputs": [],
   "source": [
    "# เพิ่มสินค้าโปรโมชั่นไว้ต้นตะกร้า (สมมติว่าเป็นสินค้าที่ต้องเห็นก่อน)"
   ]
  },
  {
   "cell_type": "code",
   "execution_count": null,
   "id": "24f8d038",
   "metadata": {},
   "outputs": [],
   "source": [
    "# ลูกค้าเปลี่ยนใจ ลบ Mouse ออก\n"
   ]
  },
  {
   "cell_type": "code",
   "execution_count": null,
   "id": "65e349a7",
   "metadata": {},
   "outputs": [],
   "source": [
    "# ลบสินค้าชิ้นสุดท้ายออกจากตะกร้า (อาจใช้ตอน checkout เพื่อประมวลผลทีละชิ้น)"
   ]
  },
  {
   "cell_type": "code",
   "execution_count": null,
   "id": "dd76b1b8",
   "metadata": {},
   "outputs": [],
   "source": [
    "# ลบสินค้าชิ้นแรกออกจากตะกร้า (ตาม Index 0)"
   ]
  },
  {
   "cell_type": "code",
   "execution_count": null,
   "id": "a0105f8e",
   "metadata": {},
   "outputs": [],
   "source": [
    "# นับจำนวนสินค้าในตะกร้า"
   ]
  },
  {
   "cell_type": "code",
   "execution_count": null,
   "id": "3e6ebfa5",
   "metadata": {},
   "outputs": [],
   "source": [
    "# ตัวอย่าง methods อื่นๆ (ไม่เกี่ยวกับตะกร้าโดยตรง แต่อาจใช้กับรายการสินค้า)"
   ]
  },
  {
   "cell_type": "markdown",
   "id": "e0b0bffd",
   "metadata": {},
   "source": [
    "### List Comprehensions"
   ]
  },
  {
   "cell_type": "code",
   "execution_count": null,
   "id": "bf4b3bbf",
   "metadata": {},
   "outputs": [],
   "source": [
    "# 4. List Comprehensions (การสร้าง List แบบย่อ)"
   ]
  },
  {
   "cell_type": "code",
   "execution_count": null,
   "id": "13bb6e14",
   "metadata": {},
   "outputs": [],
   "source": [
    "# ตัวอย่าง: สร้าง List ของสินค้าที่มีราคาเกิน 5000"
   ]
  },
  {
   "cell_type": "code",
   "execution_count": null,
   "id": "c43259e0",
   "metadata": {},
   "outputs": [],
   "source": [
    "# 5. Nested Lists (Lists ซ้อนกัน)"
   ]
  },
  {
   "cell_type": "code",
   "execution_count": null,
   "id": "e658afc5",
   "metadata": {},
   "outputs": [],
   "source": [
    "# เข้าถึงสินค้าในคำสั่งซื้อแรก"
   ]
  },
  {
   "cell_type": "code",
   "execution_count": null,
   "id": "71efa13f",
   "metadata": {},
   "outputs": [],
   "source": [
    "# เข้าถึงสินค้าชิ้นที่สองในคำสั่งซื้อแรก"
   ]
  },
  {
   "cell_type": "code",
   "execution_count": null,
   "id": "62981890",
   "metadata": {},
   "outputs": [],
   "source": [
    "# 6. Sorting and Reversing Lists (การเรียงลำดับและย้อนกลับ List)"
   ]
  },
  {
   "cell_type": "code",
   "execution_count": null,
   "id": "46b6a88f",
   "metadata": {},
   "outputs": [],
   "source": [
    "# เรียงลำดับแบบ In-place (ปรับแก้ List เดิม)"
   ]
  },
  {
   "cell_type": "code",
   "execution_count": null,
   "id": "2fae11eb",
   "metadata": {},
   "outputs": [],
   "source": [
    "# ตัวอย่าง: เรียงลำดับราคาจากน้อยไปมาก"
   ]
  },
  {
   "cell_type": "code",
   "execution_count": null,
   "id": "51c5d888",
   "metadata": {},
   "outputs": [],
   "source": [
    "# เรียงลำดับจากมากไปน้อย"
   ]
  },
  {
   "cell_type": "code",
   "execution_count": null,
   "id": "fab2b93e",
   "metadata": {},
   "outputs": [],
   "source": [
    "# ใช้ sorted() เพื่อคืนค่าเป็น List ใหม่ (List เดิมไม่ถูกแก้)"
   ]
  },
  {
   "cell_type": "code",
   "execution_count": null,
   "id": "197c9d4d",
   "metadata": {},
   "outputs": [],
   "source": [
    "# ย้อนกลับลำดับสมาชิกใน List"
   ]
  }
 ],
 "metadata": {
  "kernelspec": {
   "display_name": "Python 3",
   "language": "python",
   "name": "python3"
  },
  "language_info": {
   "codemirror_mode": {
    "name": "ipython",
    "version": 3
   },
   "file_extension": ".py",
   "mimetype": "text/x-python",
   "name": "python",
   "nbconvert_exporter": "python",
   "pygments_lexer": "ipython3",
   "version": "3.13.3"
  }
 },
 "nbformat": 4,
 "nbformat_minor": 5
}
