{
 "cells": [
  {
   "cell_type": "code",
   "execution_count": null,
   "id": "6850b629",
   "metadata": {},
   "outputs": [],
   "source": [
    "# ตัวอย่างการสร้าง List ว่างสำหรับตะกร้าสินค้า\n",
    "shopping_cart = []\n",
    "print(\"ตะกร้าสินค้าเริ่มต้น:\", shopping_cart)"
   ]
  },
  {
   "cell_type": "code",
   "execution_count": null,
   "id": "2c6e07ea",
   "metadata": {},
   "outputs": [
    {
     "ename": "",
     "evalue": "",
     "output_type": "error",
     "traceback": [
      "\u001b[1;31mRunning cells with 'Python 3.12.3' requires the ipykernel package.\n",
      "\u001b[1;31m<a href='command:jupyter.createPythonEnvAndSelectController'>Create a Python Environment</a> with the required packages.\n",
      "\u001b[1;31mOr install 'ipykernel' using the command: '/bin/python3 -m pip install ipykernel -U --user --force-reinstall'"
     ]
    }
   ],
   "source": [
    "# ตัวอย่างการสร้าง List ที่มีข้อมูลเริ่มต้น (รายการสินค้าในแค็ตตาล็อก)\n",
    "product_catalog = [\"Mouse\", \"Keyboard\", \"Monitor\", \"Laptop\"]\n",
    "print(\"แค็ตตาล็อกสินค้า:\", product_catalog)\n"
   ]
  },
  {
   "cell_type": "code",
   "execution_count": null,
   "id": "74c0dd88",
   "metadata": {},
   "outputs": [],
   "source": [
    "# List Indexing and Slicing\n",
    "first_product = "
   ]
  },
  {
   "cell_type": "code",
   "execution_count": null,
   "id": "81497cfb",
   "metadata": {},
   "outputs": [],
   "source": [
    "# List พร้อม Index ติดลบ\n",
    "last_product = "
   ]
  },
  {
   "cell_type": "code",
   "execution_count": null,
   "id": "23ddc244",
   "metadata": {},
   "outputs": [],
   "source": [
    "# สินค้าตั้งแต่ตัวที่ 2 (Index 1) ถึงตัวที่ 4 (Index 3)\n",
    "selected_products = "
   ]
  },
  {
   "cell_type": "code",
   "execution_count": null,
   "id": "fa5e191c",
   "metadata": {},
   "outputs": [],
   "source": [
    "# การเว้นตำแหน่ง start:, list 3 รายการแรก\n",
    "first_three_products = "
   ]
  },
  {
   "cell_type": "code",
   "execution_count": null,
   "id": "27311532",
   "metadata": {},
   "outputs": [],
   "source": [
    "# การเว้นตำแหน่ง stop:, list 2 รายการท้ายสุด\n",
    "last_two_products = \n",
    "\n"
   ]
  },
  {
   "cell_type": "markdown",
   "id": "6e55aacd",
   "metadata": {},
   "source": [
    "### List Methods"
   ]
  },
  {
   "cell_type": "code",
   "execution_count": null,
   "id": "ad534960",
   "metadata": {},
   "outputs": [],
   "source": [
    "# List method\n",
    "shopping_cart = []\n",
    "shopping_cart.append(\"Laptop\")  # เพิ่มสินค้า Laptop ลงในตะกร้า\n",
    "shopping_cart.append(\"Mouse\")  # เพิ่มสินค้า Mouse ลงในตะกร้า\n",
    "print(\"ตะกร้าสินค้าหลังเพิ่มสินค้า:\", shopping_cart)\n"
   ]
  },
  {
   "cell_type": "code",
   "execution_count": null,
   "id": "ba5c7f56",
   "metadata": {},
   "outputs": [],
   "source": [
    "# แทรกสินค้าที่ต้นตะกร้าสินค้า, append() method\n"
   ]
  },
  {
   "cell_type": "code",
   "execution_count": null,
   "id": "14e52f21",
   "metadata": {},
   "outputs": [],
   "source": [
    "# insert() method ที่ตำแหน่ง 0 (ต้นตะกร้า)\n",
    "shopping_cart.insert(0, \"Promotion: Keyboard\")  # เพิ่ม Keyboard ที่ตำแหน่ง 0\n",
    "print(\"ตะกร้าสินค้าหลังแทรกสินค้า:\", shopping_cart)\n"
   ]
  },
  {
   "cell_type": "code",
   "execution_count": null,
   "id": "ca0b14da",
   "metadata": {},
   "outputs": [],
   "source": [
    "# extend() method, เพิ่มรายการจาก whistlist\n",
    "whishlist = [\"Keyboard\", \"Monitor\"]\n",
    "shopping_cart.extend(whishlist)  # เพิ่มรายการจาก whistlist ลงในตะกร้า\n",
    "print(\"ตะกร้าสินค้าหลังเพิ่มรายการจาก whistlist:\", shopping_cart)"
   ]
  },
  {
   "cell_type": "code",
   "execution_count": null,
   "id": "f13d8609",
   "metadata": {},
   "outputs": [],
   "source": [
    "# remove(item) method, ลบสินค้าจากตะกร้า\n",
    "if \"Promotion: Keyboard\" in shopping_cart:\n",
    "    shopping_cart.remove(\"Promotion: Keyboard\")  # ลบสินค้า Promotion: Keyboard\n",
    "print(\"ตะกร้าสินค้าหลังลบสินค้า:\", shopping_cart)"
   ]
  },
  {
   "cell_type": "code",
   "execution_count": null,
   "id": "bac9eb08",
   "metadata": {},
   "outputs": [],
   "source": [
    "# pop() method, ลบสินค้าตัวสุดท้ายในตะกร้า\n",
    "last_removed = shopping_cart.pop()\n",
    "print(\"สินค้าที่ถูกลบออกจากตะกร้าสินค้า:\", last_removed)\n",
    "print(\"ตะกร้าสินค้าหลังลบสินค้าตัวสุดท้าย:\", shopping_cart)"
   ]
  },
  {
   "cell_type": "code",
   "execution_count": null,
   "id": "ff454235",
   "metadata": {},
   "outputs": [],
   "source": [
    "# index() method, ค้นหาตำแหน่งของสินค้าในตะกร้า\n",
    "try:\n",
    "    mouse_index = shopping_cart.index(\"Keyboard\")  # ค้นหาตำแหน่งของ Mouse\n",
    "    print(\"ตำแหน่งของ Keyboard ในตะกร้า:\", mouse_index)\n",
    "except ValueError:\n",
    "    print(\"Keyboard ไม่อยู่ในตะกร้า\")"
   ]
  },
  {
   "cell_type": "code",
   "execution_count": null,
   "id": "c75fea4f",
   "metadata": {},
   "outputs": [],
   "source": [
    "# count() method, นับจำนวนสินค้าที่มีในตะกร้า\n",
    "shopping_cart.append(\"Mouse\")\n",
    "print(\"ตะกร้าปัจจุบัน:\", shopping_cart)\n",
    "mouse_count = shopping_cart.count(\"Mouse\")\n",
    "print(\"จำนวน Mouse ในตะกร้า:\", mouse_count)"
   ]
  },
  {
   "cell_type": "code",
   "execution_count": null,
   "id": "fbaa6435",
   "metadata": {},
   "outputs": [],
   "source": [
    "# copy() method, สร้างสำเนาของตะกร้า\n",
    "cart_for_checkout = shopping_cart.copy()\n",
    "print(\"สำเนาตะกร้าสินค้าสำหรับเช็คเอาท์:\", cart_for_checkout)"
   ]
  },
  {
   "cell_type": "markdown",
   "id": "36d4a441",
   "metadata": {},
   "source": [
    "### List Comprehension"
   ]
  },
  {
   "cell_type": "code",
   "execution_count": null,
   "id": "eeb43bde",
   "metadata": {},
   "outputs": [],
   "source": [
    "# List Comprehension\n",
    "item_names = [\"Book\", \"Pen\", \"Notebook\", \"Pencil\"]\n",
    "item_prices = [150, 20, 80, 10]\n",
    "\n",
    "# สร้าง List ใหม่เฉพาะรายการที่มีราคาเกิน 50 บาท\n",
    "expensive_items = []\n",
    "for i in range(len(item_names)):\n",
    "    if item_prices[i] > 50:\n",
    "        expensive_items.append(item_names[i])\n",
    "print(\"รายการสินค้าที่มีราคาเกิน 50 บาท:\", expensive_items)\n"
   ]
  },
  {
   "cell_type": "code",
   "execution_count": null,
   "id": "62382459",
   "metadata": {},
   "outputs": [],
   "source": [
    "# Use List Comprehension\n",
    "expensive_items = [item_names[i] for i in range(len(item_names)) if item_prices[i] > 50]\n",
    "print(\"รายการสินค้าที่มีราคาเกิน 50 บาท (List Comprehension):\", expensive_items)"
   ]
  },
  {
   "cell_type": "code",
   "execution_count": null,
   "id": "0de2a3dc",
   "metadata": {},
   "outputs": [],
   "source": [
    "# calculate price after tax\n",
    "prices_after_tax = [price * 1.07 for price in item_prices]\n",
    "print(\"ราคาสินค้าหลังรวมภาษี:\", prices_after_tax)"
   ]
  },
  {
   "cell_type": "markdown",
   "id": "ffed359b",
   "metadata": {},
   "source": [
    "### Nested List"
   ]
  },
  {
   "cell_type": "code",
   "execution_count": null,
   "id": "fdad1ae3",
   "metadata": {},
   "outputs": [],
   "source": [
    "# Nested List\n",
    "customer_orders = [\n",
    "    [1001, \"Alice\", 350.00],  # Order 1\n",
    "    [1002, \"Bob\", 1200.50],   # Order 2\n",
    "    [1003, \"Alice\", 80.00],    # Order 3\n",
    "    [1004, \"Charlie\", 2500.75] # Order 4\n",
    "]\n",
    "print(\"รายการคำสั่งซื้อทั้งหมด:\", customer_orders)\n"
   ]
  },
  {
   "cell_type": "code",
   "execution_count": null,
   "id": "3fd115b0",
   "metadata": {},
   "outputs": [],
   "source": [
    "# เราจะเข้าถึงข้อมูลใน Nested List ได้ด้วยการใช้ Index หลายชั้น\n",
    "#   เข้าถึงคำสั่งซื้อที่ 2 (Index 1): `customer_orders[1]` จะได้ `[1002, \"Bob\", 1200.50]`\n",
    "#   เข้าถึงชื่อลูกค้าในคำสั่งซื้อแรก (Order 1 คือ Index 0, ชื่อลูกค้าคือ Index 1 ใน List ย่อย): `customer_orders[0][1]` จะได้ `\"Alice\"`\n",
    "second_order = customer_orders[1]\n",
    "print(\"คำสั่งซื้อที่ 2:\", second_order)\n",
    "\n",
    "customer_of_second_order = customer_orders[3][1]\n",
    "print(\"ชื่อลูกค้าในคำสั่งซื้อที่ 2:\", customer_of_second_order)\n"
   ]
  },
  {
   "cell_type": "code",
   "execution_count": null,
   "id": "203a89e9",
   "metadata": {},
   "outputs": [],
   "source": [
    "# เข้าถึงชื่อลูกค้าในคำสั่งซื้อแรก (Order 1 คือ Index 0, ชื่อลูกค้าคือ Index 1 ใน List ย่อย)"
   ]
  },
  {
   "cell_type": "code",
   "execution_count": null,
   "id": "427132f2",
   "metadata": {},
   "outputs": [],
   "source": [
    "# Sorting and Reversing Lists\n",
    "product_catalog = [\"Laptop\", \"Mouse\", \"Keyboard\", \"Monitor\", \"Webcam\"]\n",
    "print(\"รายการสินค้าเดิม:\", product_catalog)\n",
    "\n",
    "# in-place sort\n",
    "product_catalog.sort()\n",
    "print(\"รายการสินค้าหลังการเรียงลำดับ:\", product_catalog)"
   ]
  },
  {
   "cell_type": "code",
   "execution_count": null,
   "id": "6d8e973e",
   "metadata": {},
   "outputs": [],
   "source": [
    "product_catalog = [\"Laptop\", \"Mouse\", \"Keyboard\", \"Monitor\", \"Webcam\"]\n",
    "print(\"รายการสินค้าเดิม:\", product_catalog)\n",
    "\n",
    "sorted_catalog = sorted(product_catalog)\n",
    "print(\"รายการสินค้าหลังการเรียงลำดับ (ไม่เปลี่ยนแปลงต้นฉบับ):\", sorted_catalog)\n",
    "print(\"รายการสินค้าเดิม:\", product_catalog)"
   ]
  },
  {
   "cell_type": "code",
   "execution_count": null,
   "id": "90517eb0",
   "metadata": {},
   "outputs": [],
   "source": [
    "# descending order\n",
    "original_prices = [150, 20, 80, 10]\n",
    "print(\"ราคาสินค้าเดิม:\", original_prices)\n",
    "\n",
    "\n"
   ]
  },
  {
   "cell_type": "code",
   "execution_count": null,
   "id": "8d7043fb",
   "metadata": {},
   "outputs": [],
   "source": [
    "print(\"คำสั่งซื้อเดิม:\", customer_orders)\n",
    "\n",
    "# เรียงคำสั่งซื้อตามยอดรวม (element ที่มี Index 2 ใน List ย่อย)\n",
    "customer_orders.sort(key=lambda order: order[2])\n",
    "print(\"คำสั่งซื้อเรียงตามยอดรวม:\", customer_orders)"
   ]
  },
  {
   "cell_type": "code",
   "execution_count": null,
   "id": "b212b960",
   "metadata": {},
   "outputs": [],
   "source": [
    "# using reverse() method\n",
    "print(\"รายการสินค้าก่อนการกลับลำดับ:\", product_catalog)\n",
    "\n",
    "print(\"รายการสินค้าที่เรียงลำดับแล้ว:\", sorted_catalog)\n",
    "\n",
    "new_sorted_catalog = sorted(sorted_catalog, reverse=True)\n",
    "print(\"รายการสินค้าที่เรียงลำดับแล้ว (จากมากไปน้อย):\", new_sorted_catalog)"
   ]
  },
  {
   "cell_type": "markdown",
   "id": "8944ad5b",
   "metadata": {},
   "source": []
  },
  {
   "cell_type": "markdown",
   "id": "c251409d",
   "metadata": {},
   "source": []
  },
  {
   "cell_type": "code",
   "execution_count": null,
   "id": "8b29dbc1",
   "metadata": {},
   "outputs": [],
   "source": []
  },
  {
   "cell_type": "code",
   "execution_count": null,
   "id": "9475172f",
   "metadata": {},
   "outputs": [],
   "source": []
  },
  {
   "cell_type": "code",
   "execution_count": null,
   "id": "14c77731",
   "metadata": {},
   "outputs": [],
   "source": []
  }
 ],
 "metadata": {
  "kernelspec": {
   "display_name": "Python 3",
   "language": "python",
   "name": "python3"
  },
  "language_info": {
   "codemirror_mode": {
    "name": "ipython",
    "version": 3
   },
   "file_extension": ".py",
   "mimetype": "text/x-python",
   "name": "python",
   "nbconvert_exporter": "python",
   "pygments_lexer": "ipython3",
   "version": "3.12.3"
  }
 },
 "nbformat": 4,
 "nbformat_minor": 5
}
