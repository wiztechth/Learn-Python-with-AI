{
 "cells": [
  {
   "cell_type": "code",
   "execution_count": null,
   "id": "900aa366",
   "metadata": {},
   "outputs": [],
   "source": [
    "# Restaurant Management System\n",
    "\n",
    "# 1. Introduction to Dictionaries\n",
    "\n",
    "menus = {\n",
    "    \"burger\": 5.99,\n",
    "    \"fries\": 2.99,\n",
    "    \"soda\": 1.99,\n",
    "    \"salad\": 4.99,\n",
    "}\n",
    "print(\"--- Restaurant Menu ---\")\n",
    "print(menus)"
   ]
  },
  {
   "cell_type": "code",
   "execution_count": null,
   "id": "84406e00",
   "metadata": {},
   "outputs": [],
   "source": [
    "# access values using keys\n",
    "print(\"\\nPrice of a burger:\", menus[\"burger\"])\n",
    "print(\"Price of fries:\", menus[\"fries\"])"
   ]
  },
  {
   "cell_type": "code",
   "execution_count": null,
   "id": "c100e46a",
   "metadata": {},
   "outputs": [],
   "source": [
    "# 2. access keys in a dictionary\n",
    "print(\"\\nMenu items:\", menus.keys())\n",
    "\n",
    "for item in menus.keys():\n",
    "    print(item.capitalize())\n",
    "    "
   ]
  },
  {
   "cell_type": "code",
   "execution_count": null,
   "id": "f8b3e7f7",
   "metadata": {},
   "outputs": [],
   "source": [
    "# access keys and values using items()\n",
    "print(\"\\nMenu items and prices:\")   \n",
    "for item, price in menus.items():\n",
    "    print(f\"{item.capitalize()}: ${price:.2f}\")"
   ]
  },
  {
   "cell_type": "code",
   "execution_count": null,
   "id": "7adbaa62",
   "metadata": {},
   "outputs": [],
   "source": [
    "# access values in a dictionary\n",
    "print(\"\\nPrices:\", menus.values())\n",
    "for price in menus.values():\n",
    "    print(f\"${price:.2f}\")"
   ]
  },
  {
   "cell_type": "code",
   "execution_count": null,
   "id": "701b20c1",
   "metadata": {},
   "outputs": [],
   "source": [
    "# convert items to a list\n",
    "menu_items = list(menus.items())\n",
    "print(\"\\nMenu items as a list:\", menu_items)"
   ]
  },
  {
   "cell_type": "code",
   "execution_count": null,
   "id": "6154f4a6",
   "metadata": {},
   "outputs": [],
   "source": [
    "# 3. add a new item to the menu\n",
    "menus[\"pizza\"] = 10\n",
    "print(f\"ราคา Pizza: {menus[\"pizza\"]} \")"
   ]
  },
  {
   "cell_type": "code",
   "execution_count": null,
   "id": "560ce6cb",
   "metadata": {},
   "outputs": [],
   "source": [
    "del menus[\"pizza\"]\n",
    "print(\"Pizza removed from menu.\", menu)"
   ]
  },
  {
   "cell_type": "code",
   "execution_count": null,
   "id": "b19c6d58",
   "metadata": {},
   "outputs": [],
   "source": [
    "# 4. Iterate through the dictionary via keys \n",
    "for item in menus:\n",
    "    print(f\"{item.capitalize()}: ${menus[item]:.2f}\")  \n"
   ]
  },
  {
   "cell_type": "code",
   "execution_count": null,
   "id": "65b4bf50",
   "metadata": {},
   "outputs": [],
   "source": [
    "# iterate through the dictionary via values\n",
    "for price in menus.values():\n",
    "    print(f\"${price:.2f}\")"
   ]
  },
  {
   "cell_type": "code",
   "execution_count": null,
   "id": "303c2109",
   "metadata": {},
   "outputs": [],
   "source": [
    "# iterate through the dictionary via keys and values\n",
    "for item, price in menus.items():\n",
    "    print(f\"{item.capitalize()}: ${price:.2f}\")\n",
    "# check if a key exists in the dictionary"
   ]
  },
  {
   "cell_type": "code",
   "execution_count": null,
   "id": "383641e2",
   "metadata": {},
   "outputs": [],
   "source": [
    "# 5. Dictionary Comprehension\n",
    "print(\"\\n--- Dictionary Comprehension ---\")\n",
    "# Create a new dictionary with prices increased by 10%\n",
    "new_menus = {item: price * 1.10 for item, price in menus.items()}\n",
    "print(\"New Menu with 10% Price Increase:\")\n",
    "for item, price in new_menus.items():\n",
    "    print(f\"{item.capitalize()}: ${price:.2f}\")"
   ]
  },
  {
   "cell_type": "code",
   "execution_count": null,
   "id": "125a5982",
   "metadata": {},
   "outputs": [],
   "source": []
  }
 ],
 "metadata": {
  "kernelspec": {
   "display_name": "Python 3",
   "language": "python",
   "name": "python3"
  },
  "language_info": {
   "codemirror_mode": {
    "name": "ipython",
    "version": 3
   },
   "file_extension": ".py",
   "mimetype": "text/x-python",
   "name": "python",
   "nbconvert_exporter": "python",
   "pygments_lexer": "ipython3",
   "version": "3.13.3"
  }
 },
 "nbformat": 4,
 "nbformat_minor": 5
}
