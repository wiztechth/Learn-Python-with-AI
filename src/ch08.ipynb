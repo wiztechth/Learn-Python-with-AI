{
 "cells": [
  {
   "cell_type": "code",
   "execution_count": null,
   "id": "900aa366",
   "metadata": {},
   "outputs": [],
   "source": [
    "# Restaurant Management System\n",
    "\n",
    "# 1. Introduction to Dictionaries\n",
    "\n",
    "menus = {\n",
    "    \"Pad Thai\": 120,\n",
    "    \"Green Curry\": 150,\n",
    "    \"Tom Yum Goong\": 180,\n",
    "    \"Mango Sticky Rice\": 90\n",
    "}\n",
    "\n",
    "print(\"Available Menus:\")\n",
    "for dish, price in menus.items():\n",
    "    print(f\"{dish}: ${price}\")"
   ]
  },
  {
   "cell_type": "code",
   "execution_count": null,
   "id": "c0bf5134",
   "metadata": {},
   "outputs": [],
   "source": [
    "# add \"Pad Kra Pow\" to the menu\n",
    "menus[\"Pad Kra Pow\"] = 130\n",
    "print(\"\\nUpdated Menus:\")   \n",
    "for dish, price in menus.items():\n",
    "    print(f\"{dish}: ${price}\")"
   ]
  },
  {
   "cell_type": "code",
   "execution_count": 18,
   "id": "ededf77c",
   "metadata": {},
   "outputs": [
    {
     "name": "stdout",
     "output_type": "stream",
     "text": [
      "\n",
      "Updated Price of Tom Yum Goong:\n",
      "Pad Thai: $120\n",
      "Green Curry: $150\n",
      "Tom Yum Goong: $200\n",
      "Pad Kra Pow: $130\n"
     ]
    }
   ],
   "source": [
    "# update price of \"Tom Yum Goong\"\n",
    "menus[\"Tom Yum Goong\"] = 200\n",
    "print(\"\\nUpdated Price of Tom Yum Goong:\")\n",
    "for dish, price in menus.items():\n",
    "    print(f\"{dish}: ${price}\")\n",
    "# remove \"Mango Sticky Rice\" from the menu"
   ]
  }
 ],
 "metadata": {
  "kernelspec": {
   "display_name": ".venv",
   "language": "python",
   "name": "python3"
  },
  "language_info": {
   "codemirror_mode": {
    "name": "ipython",
    "version": 3
   },
   "file_extension": ".py",
   "mimetype": "text/x-python",
   "name": "python",
   "nbconvert_exporter": "python",
   "pygments_lexer": "ipython3",
   "version": "3.12.3"
  }
 },
 "nbformat": 4,
 "nbformat_minor": 5
}
